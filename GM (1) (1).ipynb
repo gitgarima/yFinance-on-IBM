{
 "cells": [
  {
   "cell_type": "code",
   "execution_count": 2,
   "id": "84e2ac5e",
   "metadata": {},
   "outputs": [],
   "source": [
    "import pandas as pd\n",
    "import numpy as np\n",
    "import matplotlib.pyplot as plt\n",
    "import seaborn as sns\n",
    "%matplotlib inline\n",
    "\n",
    "from sklearn.datasets import make_classification\n",
    "from sklearn.model_selection import train_test_split\n",
    "from sklearn import preprocessing\n",
    "from sklearn.preprocessing import MinMaxScaler\n",
    "\n",
    "from sklearn.neighbors import KNeighborsClassifier\n",
    "from sklearn.preprocessing import StandardScaler\n",
    "from sklearn.metrics import classification_report, confusion_matrix, accuracy_score\n",
    "from numpy import loadtxt\n",
    "from xgboost import XGBClassifier\n",
    "from sklearn.metrics import plot_confusion_matrix\n",
    "from sklearn.ensemble import GradientBoostingClassifier\n",
    "from sklearn.ensemble import RandomForestClassifier\n",
    "\n",
    "from sklearn.metrics import roc_curve\n",
    "from sklearn.metrics import roc_auc_score\n",
    "\n",
    "from sklearn.preprocessing import MinMaxScaler"
   ]
  },
  {
   "cell_type": "code",
   "execution_count": 3,
   "id": "36fed3f7",
   "metadata": {},
   "outputs": [],
   "source": [
    "import yfinance as yf"
   ]
  },
  {
   "cell_type": "code",
   "execution_count": 4,
   "id": "86d765b3",
   "metadata": {},
   "outputs": [],
   "source": [
    "dataset = yf.download('IBM', start='2015-01-01',end='2021-12-31',progress=False)"
   ]
  },
  {
   "cell_type": "code",
   "execution_count": 5,
   "id": "54f52993",
   "metadata": {},
   "outputs": [
    {
     "data": {
      "text/html": [
       "<div>\n",
       "<style scoped>\n",
       "    .dataframe tbody tr th:only-of-type {\n",
       "        vertical-align: middle;\n",
       "    }\n",
       "\n",
       "    .dataframe tbody tr th {\n",
       "        vertical-align: top;\n",
       "    }\n",
       "\n",
       "    .dataframe thead th {\n",
       "        text-align: right;\n",
       "    }\n",
       "</style>\n",
       "<table border=\"1\" class=\"dataframe\">\n",
       "  <thead>\n",
       "    <tr style=\"text-align: right;\">\n",
       "      <th></th>\n",
       "      <th>Open</th>\n",
       "      <th>High</th>\n",
       "      <th>Low</th>\n",
       "      <th>Close</th>\n",
       "      <th>Adj Close</th>\n",
       "      <th>Volume</th>\n",
       "    </tr>\n",
       "    <tr>\n",
       "      <th>Date</th>\n",
       "      <th></th>\n",
       "      <th></th>\n",
       "      <th></th>\n",
       "      <th></th>\n",
       "      <th></th>\n",
       "      <th></th>\n",
       "    </tr>\n",
       "  </thead>\n",
       "  <tbody>\n",
       "    <tr>\n",
       "      <th>2015-01-02</th>\n",
       "      <td>154.216064</td>\n",
       "      <td>156.128113</td>\n",
       "      <td>153.919693</td>\n",
       "      <td>154.933075</td>\n",
       "      <td>113.538879</td>\n",
       "      <td>5779673</td>\n",
       "    </tr>\n",
       "    <tr>\n",
       "      <th>2015-01-05</th>\n",
       "      <td>154.177826</td>\n",
       "      <td>154.177826</td>\n",
       "      <td>152.189301</td>\n",
       "      <td>152.495224</td>\n",
       "      <td>111.752365</td>\n",
       "      <td>5104898</td>\n",
       "    </tr>\n",
       "    <tr>\n",
       "      <th>2015-01-06</th>\n",
       "      <td>152.648178</td>\n",
       "      <td>152.925430</td>\n",
       "      <td>148.346085</td>\n",
       "      <td>149.206497</td>\n",
       "      <td>109.342293</td>\n",
       "      <td>6429448</td>\n",
       "    </tr>\n",
       "    <tr>\n",
       "      <th>2015-01-07</th>\n",
       "      <td>150.286804</td>\n",
       "      <td>150.286804</td>\n",
       "      <td>147.256210</td>\n",
       "      <td>148.231354</td>\n",
       "      <td>108.627686</td>\n",
       "      <td>4918083</td>\n",
       "    </tr>\n",
       "    <tr>\n",
       "      <th>2015-01-08</th>\n",
       "      <td>149.369019</td>\n",
       "      <td>152.045883</td>\n",
       "      <td>148.709366</td>\n",
       "      <td>151.453156</td>\n",
       "      <td>110.988686</td>\n",
       "      <td>4431693</td>\n",
       "    </tr>\n",
       "    <tr>\n",
       "      <th>...</th>\n",
       "      <td>...</td>\n",
       "      <td>...</td>\n",
       "      <td>...</td>\n",
       "      <td>...</td>\n",
       "      <td>...</td>\n",
       "      <td>...</td>\n",
       "    </tr>\n",
       "    <tr>\n",
       "      <th>2021-12-23</th>\n",
       "      <td>130.000000</td>\n",
       "      <td>130.960007</td>\n",
       "      <td>129.520004</td>\n",
       "      <td>130.630005</td>\n",
       "      <td>129.075226</td>\n",
       "      <td>3649000</td>\n",
       "    </tr>\n",
       "    <tr>\n",
       "      <th>2021-12-27</th>\n",
       "      <td>130.630005</td>\n",
       "      <td>131.649994</td>\n",
       "      <td>129.949997</td>\n",
       "      <td>131.619995</td>\n",
       "      <td>130.053436</td>\n",
       "      <td>4293900</td>\n",
       "    </tr>\n",
       "    <tr>\n",
       "      <th>2021-12-28</th>\n",
       "      <td>131.600006</td>\n",
       "      <td>133.220001</td>\n",
       "      <td>131.589996</td>\n",
       "      <td>132.630005</td>\n",
       "      <td>131.051422</td>\n",
       "      <td>3445200</td>\n",
       "    </tr>\n",
       "    <tr>\n",
       "      <th>2021-12-29</th>\n",
       "      <td>132.399994</td>\n",
       "      <td>134.210007</td>\n",
       "      <td>132.300003</td>\n",
       "      <td>133.350006</td>\n",
       "      <td>131.762848</td>\n",
       "      <td>4239900</td>\n",
       "    </tr>\n",
       "    <tr>\n",
       "      <th>2021-12-30</th>\n",
       "      <td>133.750000</td>\n",
       "      <td>134.369995</td>\n",
       "      <td>133.330002</td>\n",
       "      <td>133.910004</td>\n",
       "      <td>132.316193</td>\n",
       "      <td>3158100</td>\n",
       "    </tr>\n",
       "  </tbody>\n",
       "</table>\n",
       "<p>1762 rows × 6 columns</p>\n",
       "</div>"
      ],
      "text/plain": [
       "                  Open        High         Low       Close   Adj Close  \\\n",
       "Date                                                                     \n",
       "2015-01-02  154.216064  156.128113  153.919693  154.933075  113.538879   \n",
       "2015-01-05  154.177826  154.177826  152.189301  152.495224  111.752365   \n",
       "2015-01-06  152.648178  152.925430  148.346085  149.206497  109.342293   \n",
       "2015-01-07  150.286804  150.286804  147.256210  148.231354  108.627686   \n",
       "2015-01-08  149.369019  152.045883  148.709366  151.453156  110.988686   \n",
       "...                ...         ...         ...         ...         ...   \n",
       "2021-12-23  130.000000  130.960007  129.520004  130.630005  129.075226   \n",
       "2021-12-27  130.630005  131.649994  129.949997  131.619995  130.053436   \n",
       "2021-12-28  131.600006  133.220001  131.589996  132.630005  131.051422   \n",
       "2021-12-29  132.399994  134.210007  132.300003  133.350006  131.762848   \n",
       "2021-12-30  133.750000  134.369995  133.330002  133.910004  132.316193   \n",
       "\n",
       "             Volume  \n",
       "Date                 \n",
       "2015-01-02  5779673  \n",
       "2015-01-05  5104898  \n",
       "2015-01-06  6429448  \n",
       "2015-01-07  4918083  \n",
       "2015-01-08  4431693  \n",
       "...             ...  \n",
       "2021-12-23  3649000  \n",
       "2021-12-27  4293900  \n",
       "2021-12-28  3445200  \n",
       "2021-12-29  4239900  \n",
       "2021-12-30  3158100  \n",
       "\n",
       "[1762 rows x 6 columns]"
      ]
     },
     "execution_count": 5,
     "metadata": {},
     "output_type": "execute_result"
    }
   ],
   "source": [
    "dataset"
   ]
  },
  {
   "cell_type": "code",
   "execution_count": 6,
   "id": "49a49ac1",
   "metadata": {
    "scrolled": true
   },
   "outputs": [
    {
     "name": "stdout",
     "output_type": "stream",
     "text": [
      "<class 'pandas.core.frame.DataFrame'>\n",
      "DatetimeIndex: 1762 entries, 2015-01-02 to 2021-12-30\n",
      "Data columns (total 6 columns):\n",
      " #   Column     Non-Null Count  Dtype  \n",
      "---  ------     --------------  -----  \n",
      " 0   Open       1762 non-null   float64\n",
      " 1   High       1762 non-null   float64\n",
      " 2   Low        1762 non-null   float64\n",
      " 3   Close      1762 non-null   float64\n",
      " 4   Adj Close  1762 non-null   float64\n",
      " 5   Volume     1762 non-null   int64  \n",
      "dtypes: float64(5), int64(1)\n",
      "memory usage: 96.4 KB\n"
     ]
    }
   ],
   "source": [
    "dataset.info()"
   ]
  },
  {
   "cell_type": "code",
   "execution_count": 7,
   "id": "28a79544",
   "metadata": {
    "scrolled": true
   },
   "outputs": [
    {
     "data": {
      "text/html": [
       "<div>\n",
       "<style scoped>\n",
       "    .dataframe tbody tr th:only-of-type {\n",
       "        vertical-align: middle;\n",
       "    }\n",
       "\n",
       "    .dataframe tbody tr th {\n",
       "        vertical-align: top;\n",
       "    }\n",
       "\n",
       "    .dataframe thead th {\n",
       "        text-align: right;\n",
       "    }\n",
       "</style>\n",
       "<table border=\"1\" class=\"dataframe\">\n",
       "  <thead>\n",
       "    <tr style=\"text-align: right;\">\n",
       "      <th></th>\n",
       "      <th>Open</th>\n",
       "      <th>High</th>\n",
       "      <th>Low</th>\n",
       "      <th>Close</th>\n",
       "      <th>Adj Close</th>\n",
       "      <th>Volume</th>\n",
       "    </tr>\n",
       "  </thead>\n",
       "  <tbody>\n",
       "    <tr>\n",
       "      <th>count</th>\n",
       "      <td>1762.000000</td>\n",
       "      <td>1762.000000</td>\n",
       "      <td>1762.000000</td>\n",
       "      <td>1762.000000</td>\n",
       "      <td>1762.000000</td>\n",
       "      <td>1.762000e+03</td>\n",
       "    </tr>\n",
       "    <tr>\n",
       "      <th>mean</th>\n",
       "      <td>137.061695</td>\n",
       "      <td>138.134445</td>\n",
       "      <td>135.983931</td>\n",
       "      <td>137.058281</td>\n",
       "      <td>114.991744</td>\n",
       "      <td>4.899183e+06</td>\n",
       "    </tr>\n",
       "    <tr>\n",
       "      <th>std</th>\n",
       "      <td>14.925635</td>\n",
       "      <td>14.786556</td>\n",
       "      <td>15.033781</td>\n",
       "      <td>14.916494</td>\n",
       "      <td>9.882624</td>\n",
       "      <td>2.925635e+06</td>\n",
       "    </tr>\n",
       "    <tr>\n",
       "      <th>min</th>\n",
       "      <td>90.439774</td>\n",
       "      <td>93.441681</td>\n",
       "      <td>86.577438</td>\n",
       "      <td>90.602295</td>\n",
       "      <td>81.833809</td>\n",
       "      <td>1.247878e+06</td>\n",
       "    </tr>\n",
       "    <tr>\n",
       "      <th>25%</th>\n",
       "      <td>127.442638</td>\n",
       "      <td>128.415386</td>\n",
       "      <td>126.326483</td>\n",
       "      <td>127.335085</td>\n",
       "      <td>109.747663</td>\n",
       "      <td>3.311218e+06</td>\n",
       "    </tr>\n",
       "    <tr>\n",
       "      <th>50%</th>\n",
       "      <td>137.318359</td>\n",
       "      <td>138.283936</td>\n",
       "      <td>136.276291</td>\n",
       "      <td>137.294456</td>\n",
       "      <td>114.985699</td>\n",
       "      <td>4.160988e+06</td>\n",
       "    </tr>\n",
       "    <tr>\n",
       "      <th>75%</th>\n",
       "      <td>147.265770</td>\n",
       "      <td>148.114246</td>\n",
       "      <td>146.309753</td>\n",
       "      <td>147.222759</td>\n",
       "      <td>120.283073</td>\n",
       "      <td>5.456119e+06</td>\n",
       "    </tr>\n",
       "    <tr>\n",
       "      <th>max</th>\n",
       "      <td>173.996170</td>\n",
       "      <td>174.751434</td>\n",
       "      <td>172.963669</td>\n",
       "      <td>173.948380</td>\n",
       "      <td>139.418823</td>\n",
       "      <td>3.981442e+07</td>\n",
       "    </tr>\n",
       "  </tbody>\n",
       "</table>\n",
       "</div>"
      ],
      "text/plain": [
       "              Open         High          Low        Close    Adj Close  \\\n",
       "count  1762.000000  1762.000000  1762.000000  1762.000000  1762.000000   \n",
       "mean    137.061695   138.134445   135.983931   137.058281   114.991744   \n",
       "std      14.925635    14.786556    15.033781    14.916494     9.882624   \n",
       "min      90.439774    93.441681    86.577438    90.602295    81.833809   \n",
       "25%     127.442638   128.415386   126.326483   127.335085   109.747663   \n",
       "50%     137.318359   138.283936   136.276291   137.294456   114.985699   \n",
       "75%     147.265770   148.114246   146.309753   147.222759   120.283073   \n",
       "max     173.996170   174.751434   172.963669   173.948380   139.418823   \n",
       "\n",
       "             Volume  \n",
       "count  1.762000e+03  \n",
       "mean   4.899183e+06  \n",
       "std    2.925635e+06  \n",
       "min    1.247878e+06  \n",
       "25%    3.311218e+06  \n",
       "50%    4.160988e+06  \n",
       "75%    5.456119e+06  \n",
       "max    3.981442e+07  "
      ]
     },
     "execution_count": 7,
     "metadata": {},
     "output_type": "execute_result"
    }
   ],
   "source": [
    "dataset.describe()"
   ]
  },
  {
   "cell_type": "code",
   "execution_count": 8,
   "id": "892a8dd9",
   "metadata": {},
   "outputs": [
    {
     "data": {
      "text/plain": [
       "(1762, 6)"
      ]
     },
     "execution_count": 8,
     "metadata": {},
     "output_type": "execute_result"
    }
   ],
   "source": [
    "dataset.shape"
   ]
  },
  {
   "cell_type": "code",
   "execution_count": 9,
   "id": "18caeaf6",
   "metadata": {
    "scrolled": true
   },
   "outputs": [
    {
     "data": {
      "image/png": "[encoded data removed]",
      "text/plain": [
       "<Figure size 432x288 with 2 Axes>"
      ]
     },
     "metadata": {
      "needs_background": "light"
     },
     "output_type": "display_data"
    }
   ],
   "source": [
    "dataset = pd.DataFrame(dataset,columns=['Open','High','Low','Close','Adj Close','Volume'])\n",
    "corrMatrix = dataset.corr()\n",
    "sns.heatmap(corrMatrix, annot=True)\n",
    "plt.show()"
   ]
  },
  {
   "cell_type": "code",
   "execution_count": 10,
   "id": "ef37c39e",
   "metadata": {},
   "outputs": [],
   "source": [
    "from sklearn.preprocessing import MinMaxScaler\n",
    "scaler = MinMaxScaler()\n",
    "scaler.fit(dataset)\n",
    "scaled = scaler.fit_transform(dataset)\n",
    "scaled_dataset = pd.DataFrame(scaled, columns=dataset.columns)"
   ]
  },
  {
   "cell_type": "code",
   "execution_count": 11,
   "id": "ecce98a5",
   "metadata": {},
   "outputs": [],
   "source": [
    "scaled_dataset = scaled_dataset.copy()\n",
    "scaled_dataset[\"y\"] = np.where(scaled_dataset[\"Adj Close\"].shift(-1) > scaled_dataset[\"Close\"], 1, -1)"
   ]
  },
  {
   "cell_type": "code",
   "execution_count": 12,
   "id": "406f62c7",
   "metadata": {
    "scrolled": false
   },
   "outputs": [
    {
     "data": {
      "text/html": [
       "<div>\n",
       "<style scoped>\n",
       "    .dataframe tbody tr th:only-of-type {\n",
       "        vertical-align: middle;\n",
       "    }\n",
       "\n",
       "    .dataframe tbody tr th {\n",
       "        vertical-align: top;\n",
       "    }\n",
       "\n",
       "    .dataframe thead th {\n",
       "        text-align: right;\n",
       "    }\n",
       "</style>\n",
       "<table border=\"1\" class=\"dataframe\">\n",
       "  <thead>\n",
       "    <tr style=\"text-align: right;\">\n",
       "      <th></th>\n",
       "      <th>Open</th>\n",
       "      <th>High</th>\n",
       "      <th>Low</th>\n",
       "      <th>Close</th>\n",
       "      <th>AdjClose</th>\n",
       "      <th>Volume</th>\n",
       "      <th>y</th>\n",
       "    </tr>\n",
       "  </thead>\n",
       "  <tbody>\n",
       "    <tr>\n",
       "      <th>0</th>\n",
       "      <td>0.763272</td>\n",
       "      <td>0.770958</td>\n",
       "      <td>0.779548</td>\n",
       "      <td>0.771851</td>\n",
       "      <td>0.550578</td>\n",
       "      <td>0.117506</td>\n",
       "      <td>-1</td>\n",
       "    </tr>\n",
       "    <tr>\n",
       "      <th>1</th>\n",
       "      <td>0.762815</td>\n",
       "      <td>0.746972</td>\n",
       "      <td>0.759518</td>\n",
       "      <td>0.742602</td>\n",
       "      <td>0.519555</td>\n",
       "      <td>0.100009</td>\n",
       "      <td>-1</td>\n",
       "    </tr>\n",
       "    <tr>\n",
       "      <th>2</th>\n",
       "      <td>0.744508</td>\n",
       "      <td>0.731570</td>\n",
       "      <td>0.715029</td>\n",
       "      <td>0.703143</td>\n",
       "      <td>0.477702</td>\n",
       "      <td>0.134354</td>\n",
       "      <td>-1</td>\n",
       "    </tr>\n",
       "    <tr>\n",
       "      <th>3</th>\n",
       "      <td>0.716247</td>\n",
       "      <td>0.699118</td>\n",
       "      <td>0.702413</td>\n",
       "      <td>0.691443</td>\n",
       "      <td>0.465293</td>\n",
       "      <td>0.095166</td>\n",
       "      <td>-1</td>\n",
       "    </tr>\n",
       "    <tr>\n",
       "      <th>4</th>\n",
       "      <td>0.705263</td>\n",
       "      <td>0.720752</td>\n",
       "      <td>0.719234</td>\n",
       "      <td>0.730099</td>\n",
       "      <td>0.506293</td>\n",
       "      <td>0.082554</td>\n",
       "      <td>-1</td>\n",
       "    </tr>\n",
       "    <tr>\n",
       "      <th>...</th>\n",
       "      <td>...</td>\n",
       "      <td>...</td>\n",
       "      <td>...</td>\n",
       "      <td>...</td>\n",
       "      <td>...</td>\n",
       "      <td>...</td>\n",
       "      <td>...</td>\n",
       "    </tr>\n",
       "    <tr>\n",
       "      <th>1757</th>\n",
       "      <td>0.473455</td>\n",
       "      <td>0.461425</td>\n",
       "      <td>0.497100</td>\n",
       "      <td>0.480259</td>\n",
       "      <td>0.820377</td>\n",
       "      <td>0.062259</td>\n",
       "      <td>1</td>\n",
       "    </tr>\n",
       "    <tr>\n",
       "      <th>1758</th>\n",
       "      <td>0.480995</td>\n",
       "      <td>0.469911</td>\n",
       "      <td>0.502077</td>\n",
       "      <td>0.492137</td>\n",
       "      <td>0.837364</td>\n",
       "      <td>0.078981</td>\n",
       "      <td>1</td>\n",
       "    </tr>\n",
       "    <tr>\n",
       "      <th>1759</th>\n",
       "      <td>0.492604</td>\n",
       "      <td>0.489220</td>\n",
       "      <td>0.521062</td>\n",
       "      <td>0.504255</td>\n",
       "      <td>0.854695</td>\n",
       "      <td>0.056975</td>\n",
       "      <td>1</td>\n",
       "    </tr>\n",
       "    <tr>\n",
       "      <th>1760</th>\n",
       "      <td>0.502178</td>\n",
       "      <td>0.501395</td>\n",
       "      <td>0.529281</td>\n",
       "      <td>0.512894</td>\n",
       "      <td>0.867049</td>\n",
       "      <td>0.077581</td>\n",
       "      <td>1</td>\n",
       "    </tr>\n",
       "    <tr>\n",
       "      <th>1761</th>\n",
       "      <td>0.518335</td>\n",
       "      <td>0.503363</td>\n",
       "      <td>0.541204</td>\n",
       "      <td>0.519613</td>\n",
       "      <td>0.876658</td>\n",
       "      <td>0.049531</td>\n",
       "      <td>-1</td>\n",
       "    </tr>\n",
       "  </tbody>\n",
       "</table>\n",
       "<p>1762 rows × 7 columns</p>\n",
       "</div>"
      ],
      "text/plain": [
       "          Open      High       Low     Close  AdjClose    Volume  y\n",
       "0     0.763272  0.770958  0.779548  0.771851  0.550578  0.117506 -1\n",
       "1     0.762815  0.746972  0.759518  0.742602  0.519555  0.100009 -1\n",
       "2     0.744508  0.731570  0.715029  0.703143  0.477702  0.134354 -1\n",
       "3     0.716247  0.699118  0.702413  0.691443  0.465293  0.095166 -1\n",
       "4     0.705263  0.720752  0.719234  0.730099  0.506293  0.082554 -1\n",
       "...        ...       ...       ...       ...       ...       ... ..\n",
       "1757  0.473455  0.461425  0.497100  0.480259  0.820377  0.062259  1\n",
       "1758  0.480995  0.469911  0.502077  0.492137  0.837364  0.078981  1\n",
       "1759  0.492604  0.489220  0.521062  0.504255  0.854695  0.056975  1\n",
       "1760  0.502178  0.501395  0.529281  0.512894  0.867049  0.077581  1\n",
       "1761  0.518335  0.503363  0.541204  0.519613  0.876658  0.049531 -1\n",
       "\n",
       "[1762 rows x 7 columns]"
      ]
     },
     "execution_count": 12,
     "metadata": {},
     "output_type": "execute_result"
    }
   ],
   "source": [
    "scaled_dataset = scaled_dataset.rename(columns={\"Adj Close\":\"AdjClose\"})\n",
    "scaled_dataset"
   ]
  },
  {
   "cell_type": "code",
   "execution_count": 20,
   "id": "bc16b2e3",
   "metadata": {},
   "outputs": [],
   "source": [
    "data = scaled_dataset.copy()\n",
    "data[\"50_sma\"] = data[\"Adj Close\"].rolling(50).mean()\n",
    "data[\"200_sma\"] = data[\"Adj Close\"].rolling(200).mean()\n",
    "\n",
    "data = data.dropna() \n",
    "data[\"signal\"] = data.apply(lambda row: 1 if row[f\"50_sma\"] > row[f\"200_sma\"]  else 0, axis=1)\n"
   ]
  },
  {
   "cell_type": "code",
   "execution_count": 21,
   "id": "b5515043",
   "metadata": {
    "scrolled": false
   },
   "outputs": [
    {
     "data": {
      "text/html": [
       "<div>\n",
       "<style scoped>\n",
       "    .dataframe tbody tr th:only-of-type {\n",
       "        vertical-align: middle;\n",
       "    }\n",
       "\n",
       "    .dataframe tbody tr th {\n",
       "        vertical-align: top;\n",
       "    }\n",
       "\n",
       "    .dataframe thead th {\n",
       "        text-align: right;\n",
       "    }\n",
       "</style>\n",
       "<table border=\"1\" class=\"dataframe\">\n",
       "  <thead>\n",
       "    <tr style=\"text-align: right;\">\n",
       "      <th></th>\n",
       "      <th>Open</th>\n",
       "      <th>High</th>\n",
       "      <th>Low</th>\n",
       "      <th>Close</th>\n",
       "      <th>Adj Close</th>\n",
       "      <th>Volume</th>\n",
       "      <th>y</th>\n",
       "      <th>50_sma</th>\n",
       "      <th>200_sma</th>\n",
       "      <th>signal</th>\n",
       "    </tr>\n",
       "  </thead>\n",
       "  <tbody>\n",
       "    <tr>\n",
       "      <th>199</th>\n",
       "      <td>0.639016</td>\n",
       "      <td>0.628571</td>\n",
       "      <td>0.649624</td>\n",
       "      <td>0.637990</td>\n",
       "      <td>0.450788</td>\n",
       "      <td>0.062128</td>\n",
       "      <td>-1</td>\n",
       "      <td>0.426598</td>\n",
       "      <td>0.546675</td>\n",
       "      <td>0</td>\n",
       "    </tr>\n",
       "    <tr>\n",
       "      <th>200</th>\n",
       "      <td>0.632151</td>\n",
       "      <td>0.614109</td>\n",
       "      <td>0.639885</td>\n",
       "      <td>0.624570</td>\n",
       "      <td>0.436225</td>\n",
       "      <td>0.183391</td>\n",
       "      <td>-1</td>\n",
       "      <td>0.425130</td>\n",
       "      <td>0.546103</td>\n",
       "      <td>0</td>\n",
       "    </tr>\n",
       "    <tr>\n",
       "      <th>201</th>\n",
       "      <td>0.547941</td>\n",
       "      <td>0.530747</td>\n",
       "      <td>0.550133</td>\n",
       "      <td>0.526153</td>\n",
       "      <td>0.329431</td>\n",
       "      <td>0.402289</td>\n",
       "      <td>1</td>\n",
       "      <td>0.421119</td>\n",
       "      <td>0.545153</td>\n",
       "      <td>0</td>\n",
       "    </tr>\n",
       "    <tr>\n",
       "      <th>202</th>\n",
       "      <td>0.522311</td>\n",
       "      <td>0.528160</td>\n",
       "      <td>0.539398</td>\n",
       "      <td>0.529364</td>\n",
       "      <td>0.332916</td>\n",
       "      <td>0.157242</td>\n",
       "      <td>1</td>\n",
       "      <td>0.417487</td>\n",
       "      <td>0.544429</td>\n",
       "      <td>0</td>\n",
       "    </tr>\n",
       "    <tr>\n",
       "      <th>203</th>\n",
       "      <td>0.539359</td>\n",
       "      <td>0.556496</td>\n",
       "      <td>0.565073</td>\n",
       "      <td>0.565726</td>\n",
       "      <td>0.372372</td>\n",
       "      <td>0.119071</td>\n",
       "      <td>1</td>\n",
       "      <td>0.414483</td>\n",
       "      <td>0.543964</td>\n",
       "      <td>0</td>\n",
       "    </tr>\n",
       "    <tr>\n",
       "      <th>...</th>\n",
       "      <td>...</td>\n",
       "      <td>...</td>\n",
       "      <td>...</td>\n",
       "      <td>...</td>\n",
       "      <td>...</td>\n",
       "      <td>...</td>\n",
       "      <td>...</td>\n",
       "      <td>...</td>\n",
       "      <td>...</td>\n",
       "      <td>...</td>\n",
       "    </tr>\n",
       "    <tr>\n",
       "      <th>1757</th>\n",
       "      <td>0.473455</td>\n",
       "      <td>0.461425</td>\n",
       "      <td>0.497100</td>\n",
       "      <td>0.480259</td>\n",
       "      <td>0.820377</td>\n",
       "      <td>0.062259</td>\n",
       "      <td>1</td>\n",
       "      <td>0.674625</td>\n",
       "      <td>0.790934</td>\n",
       "      <td>0</td>\n",
       "    </tr>\n",
       "    <tr>\n",
       "      <th>1758</th>\n",
       "      <td>0.480995</td>\n",
       "      <td>0.469911</td>\n",
       "      <td>0.502077</td>\n",
       "      <td>0.492137</td>\n",
       "      <td>0.837364</td>\n",
       "      <td>0.078981</td>\n",
       "      <td>1</td>\n",
       "      <td>0.673370</td>\n",
       "      <td>0.792127</td>\n",
       "      <td>0</td>\n",
       "    </tr>\n",
       "    <tr>\n",
       "      <th>1759</th>\n",
       "      <td>0.492604</td>\n",
       "      <td>0.489220</td>\n",
       "      <td>0.521062</td>\n",
       "      <td>0.504255</td>\n",
       "      <td>0.854695</td>\n",
       "      <td>0.056975</td>\n",
       "      <td>1</td>\n",
       "      <td>0.672066</td>\n",
       "      <td>0.793331</td>\n",
       "      <td>0</td>\n",
       "    </tr>\n",
       "    <tr>\n",
       "      <th>1760</th>\n",
       "      <td>0.502178</td>\n",
       "      <td>0.501395</td>\n",
       "      <td>0.529281</td>\n",
       "      <td>0.512894</td>\n",
       "      <td>0.867049</td>\n",
       "      <td>0.077581</td>\n",
       "      <td>1</td>\n",
       "      <td>0.671750</td>\n",
       "      <td>0.794623</td>\n",
       "      <td>0</td>\n",
       "    </tr>\n",
       "    <tr>\n",
       "      <th>1761</th>\n",
       "      <td>0.518335</td>\n",
       "      <td>0.503363</td>\n",
       "      <td>0.541204</td>\n",
       "      <td>0.519613</td>\n",
       "      <td>0.876658</td>\n",
       "      <td>0.049531</td>\n",
       "      <td>-1</td>\n",
       "      <td>0.671737</td>\n",
       "      <td>0.795901</td>\n",
       "      <td>0</td>\n",
       "    </tr>\n",
       "  </tbody>\n",
       "</table>\n",
       "<p>1563 rows × 10 columns</p>\n",
       "</div>"
      ],
      "text/plain": [
       "          Open      High       Low     Close  Adj Close    Volume  y  \\\n",
       "199   0.639016  0.628571  0.649624  0.637990   0.450788  0.062128 -1   \n",
       "200   0.632151  0.614109  0.639885  0.624570   0.436225  0.183391 -1   \n",
       "201   0.547941  0.530747  0.550133  0.526153   0.329431  0.402289  1   \n",
       "202   0.522311  0.528160  0.539398  0.529364   0.332916  0.157242  1   \n",
       "203   0.539359  0.556496  0.565073  0.565726   0.372372  0.119071  1   \n",
       "...        ...       ...       ...       ...        ...       ... ..   \n",
       "1757  0.473455  0.461425  0.497100  0.480259   0.820377  0.062259  1   \n",
       "1758  0.480995  0.469911  0.502077  0.492137   0.837364  0.078981  1   \n",
       "1759  0.492604  0.489220  0.521062  0.504255   0.854695  0.056975  1   \n",
       "1760  0.502178  0.501395  0.529281  0.512894   0.867049  0.077581  1   \n",
       "1761  0.518335  0.503363  0.541204  0.519613   0.876658  0.049531 -1   \n",
       "\n",
       "        50_sma   200_sma  signal  \n",
       "199   0.426598  0.546675       0  \n",
       "200   0.425130  0.546103       0  \n",
       "201   0.421119  0.545153       0  \n",
       "202   0.417487  0.544429       0  \n",
       "203   0.414483  0.543964       0  \n",
       "...        ...       ...     ...  \n",
       "1757  0.674625  0.790934       0  \n",
       "1758  0.673370  0.792127       0  \n",
       "1759  0.672066  0.793331       0  \n",
       "1760  0.671750  0.794623       0  \n",
       "1761  0.671737  0.795901       0  \n",
       "\n",
       "[1563 rows x 10 columns]"
      ]
     },
     "execution_count": 21,
     "metadata": {},
     "output_type": "execute_result"
    }
   ],
   "source": [
    "data"
   ]
  },
  {
   "cell_type": "markdown",
   "id": "190c7484",
   "metadata": {},
   "source": [
    "The golden cross occurs when a short-term moving average crosses over a major long-term moving average to the upside and is interpreted by analysts and traders as signaling a definitive upward turn in a market."
   ]
  },
  {
   "cell_type": "code",
   "execution_count": 23,
   "id": "d0b895de",
   "metadata": {},
   "outputs": [],
   "source": [
    "list_golden_cross_ts = []\n",
    "first_golden_cross = False"
   ]
  },
  {
   "cell_type": "code",
   "execution_count": 26,
   "id": "b839e228",
   "metadata": {},
   "outputs": [],
   "source": [
    "for idx, each in data['signal'].iteritems():\n",
    "    if each == 1:\n",
    "        # If its the first golden cross we see we add the timestamp\n",
    "        if first_golden_cross:\n",
    "            list_golden_cross_ts.append(idx)\n",
    "            first_golden_cross = False\n",
    "    else:\n",
    "        first_golden_cross = True"
   ]
  },
  {
   "cell_type": "code",
   "execution_count": 28,
   "id": "4667635b",
   "metadata": {},
   "outputs": [
    {
     "data": {
      "image/png": "[encoded data removed]",
      "text/plain": [
       "<Figure size 576x288 with 1 Axes>"
      ]
     },
     "metadata": {
      "needs_background": "light"
     },
     "output_type": "display_data"
    }
   ],
   "source": [
    "fig, axes = plt.subplots(1,1, figsize=(8,4))\n",
    "data[[\"200_sma\",\"50_sma\",\"Adj Close\"]].plot(figsize=(8,4), grid=True, title=\"SMA 50 vs SMA 200 on IBM prices\", ax=axes)\n",
    "\n",
    "for each in list_golden_cross_ts:\n",
    "    axes.axvline(x=each, label=\"Golden Cross\", c=\"yellow\")\n",
    "    \n",
    "axes.legend()\n",
    "fig.tight_layout()"
   ]
  },
  {
   "cell_type": "markdown",
   "id": "01ee9fb6",
   "metadata": {},
   "source": [
    "# Strategy num 1"
   ]
  },
  {
   "cell_type": "code",
   "execution_count": 29,
   "id": "c7086cb9",
   "metadata": {},
   "outputs": [],
   "source": [
    "training_set = scaled_dataset.iloc[:,1:2].values"
   ]
  },
  {
   "cell_type": "code",
   "execution_count": 30,
   "id": "5935c167",
   "metadata": {},
   "outputs": [
    {
     "data": {
      "text/plain": [
       "array([[0.77095833],\n",
       "       [0.74697244],\n",
       "       [0.73156967],\n",
       "       ...,\n",
       "       [0.48921954],\n",
       "       [0.50139527],\n",
       "       [0.50336291]])"
      ]
     },
     "execution_count": 30,
     "metadata": {},
     "output_type": "execute_result"
    }
   ],
   "source": [
    "training_set"
   ]
  },
  {
   "cell_type": "code",
   "execution_count": 31,
   "id": "5ba5411d",
   "metadata": {},
   "outputs": [
    {
     "data": {
      "text/plain": [
       "(1762, 1)"
      ]
     },
     "execution_count": 31,
     "metadata": {},
     "output_type": "execute_result"
    }
   ],
   "source": [
    "training_set.shape"
   ]
  },
  {
   "cell_type": "code",
   "execution_count": 32,
   "id": "818de85d",
   "metadata": {
    "scrolled": true
   },
   "outputs": [
    {
     "data": {
      "text/plain": [
       "array([[0.77095833],\n",
       "       [0.74697244],\n",
       "       [0.73156967],\n",
       "       ...,\n",
       "       [0.48921954],\n",
       "       [0.50139527],\n",
       "       [0.50336291]])"
      ]
     },
     "execution_count": 32,
     "metadata": {},
     "output_type": "execute_result"
    }
   ],
   "source": [
    "from sklearn.preprocessing import MinMaxScaler\n",
    "\n",
    "scaler = MinMaxScaler(feature_range = (0,1))\n",
    "scaled_training_set = scaler.fit_transform(training_set)\n",
    "\n",
    "scaled_training_set"
   ]
  },
  {
   "cell_type": "code",
   "execution_count": 33,
   "id": "91cf8781",
   "metadata": {
    "scrolled": false
   },
   "outputs": [
    {
     "data": {
      "text/html": [
       "<div>\n",
       "<style scoped>\n",
       "    .dataframe tbody tr th:only-of-type {\n",
       "        vertical-align: middle;\n",
       "    }\n",
       "\n",
       "    .dataframe tbody tr th {\n",
       "        vertical-align: top;\n",
       "    }\n",
       "\n",
       "    .dataframe thead th {\n",
       "        text-align: right;\n",
       "    }\n",
       "</style>\n",
       "<table border=\"1\" class=\"dataframe\">\n",
       "  <thead>\n",
       "    <tr style=\"text-align: right;\">\n",
       "      <th></th>\n",
       "      <th>Open</th>\n",
       "      <th>High</th>\n",
       "      <th>Low</th>\n",
       "      <th>Close</th>\n",
       "      <th>Adj Close</th>\n",
       "      <th>Volume</th>\n",
       "      <th>y</th>\n",
       "    </tr>\n",
       "  </thead>\n",
       "  <tbody>\n",
       "    <tr>\n",
       "      <th>0</th>\n",
       "      <td>0.763272</td>\n",
       "      <td>0.770958</td>\n",
       "      <td>0.779548</td>\n",
       "      <td>0.771851</td>\n",
       "      <td>0.550578</td>\n",
       "      <td>0.117506</td>\n",
       "      <td>-1</td>\n",
       "    </tr>\n",
       "    <tr>\n",
       "      <th>1</th>\n",
       "      <td>0.762815</td>\n",
       "      <td>0.746972</td>\n",
       "      <td>0.759518</td>\n",
       "      <td>0.742602</td>\n",
       "      <td>0.519554</td>\n",
       "      <td>0.100009</td>\n",
       "      <td>-1</td>\n",
       "    </tr>\n",
       "    <tr>\n",
       "      <th>2</th>\n",
       "      <td>0.744508</td>\n",
       "      <td>0.731570</td>\n",
       "      <td>0.715029</td>\n",
       "      <td>0.703143</td>\n",
       "      <td>0.477702</td>\n",
       "      <td>0.134354</td>\n",
       "      <td>-1</td>\n",
       "    </tr>\n",
       "    <tr>\n",
       "      <th>3</th>\n",
       "      <td>0.716247</td>\n",
       "      <td>0.699118</td>\n",
       "      <td>0.702413</td>\n",
       "      <td>0.691443</td>\n",
       "      <td>0.465293</td>\n",
       "      <td>0.095166</td>\n",
       "      <td>1</td>\n",
       "    </tr>\n",
       "    <tr>\n",
       "      <th>4</th>\n",
       "      <td>0.705263</td>\n",
       "      <td>0.720752</td>\n",
       "      <td>0.719234</td>\n",
       "      <td>0.730099</td>\n",
       "      <td>0.506293</td>\n",
       "      <td>0.082554</td>\n",
       "      <td>1</td>\n",
       "    </tr>\n",
       "    <tr>\n",
       "      <th>...</th>\n",
       "      <td>...</td>\n",
       "      <td>...</td>\n",
       "      <td>...</td>\n",
       "      <td>...</td>\n",
       "      <td>...</td>\n",
       "      <td>...</td>\n",
       "      <td>...</td>\n",
       "    </tr>\n",
       "    <tr>\n",
       "      <th>1757</th>\n",
       "      <td>0.473455</td>\n",
       "      <td>0.461425</td>\n",
       "      <td>0.497100</td>\n",
       "      <td>0.480259</td>\n",
       "      <td>0.820377</td>\n",
       "      <td>0.062259</td>\n",
       "      <td>1</td>\n",
       "    </tr>\n",
       "    <tr>\n",
       "      <th>1758</th>\n",
       "      <td>0.480995</td>\n",
       "      <td>0.469911</td>\n",
       "      <td>0.502077</td>\n",
       "      <td>0.492137</td>\n",
       "      <td>0.837364</td>\n",
       "      <td>0.078981</td>\n",
       "      <td>1</td>\n",
       "    </tr>\n",
       "    <tr>\n",
       "      <th>1759</th>\n",
       "      <td>0.492604</td>\n",
       "      <td>0.489220</td>\n",
       "      <td>0.521062</td>\n",
       "      <td>0.504255</td>\n",
       "      <td>0.854695</td>\n",
       "      <td>0.056975</td>\n",
       "      <td>1</td>\n",
       "    </tr>\n",
       "    <tr>\n",
       "      <th>1760</th>\n",
       "      <td>0.502178</td>\n",
       "      <td>0.501395</td>\n",
       "      <td>0.529281</td>\n",
       "      <td>0.512894</td>\n",
       "      <td>0.867049</td>\n",
       "      <td>0.077581</td>\n",
       "      <td>1</td>\n",
       "    </tr>\n",
       "    <tr>\n",
       "      <th>1761</th>\n",
       "      <td>0.518335</td>\n",
       "      <td>0.503363</td>\n",
       "      <td>0.541204</td>\n",
       "      <td>0.519613</td>\n",
       "      <td>0.876658</td>\n",
       "      <td>0.049531</td>\n",
       "      <td>-1</td>\n",
       "    </tr>\n",
       "  </tbody>\n",
       "</table>\n",
       "<p>1762 rows × 7 columns</p>\n",
       "</div>"
      ],
      "text/plain": [
       "          Open      High       Low     Close  Adj Close    Volume  y\n",
       "0     0.763272  0.770958  0.779548  0.771851   0.550578  0.117506 -1\n",
       "1     0.762815  0.746972  0.759518  0.742602   0.519554  0.100009 -1\n",
       "2     0.744508  0.731570  0.715029  0.703143   0.477702  0.134354 -1\n",
       "3     0.716247  0.699118  0.702413  0.691443   0.465293  0.095166  1\n",
       "4     0.705263  0.720752  0.719234  0.730099   0.506293  0.082554  1\n",
       "...        ...       ...       ...       ...        ...       ... ..\n",
       "1757  0.473455  0.461425  0.497100  0.480259   0.820377  0.062259  1\n",
       "1758  0.480995  0.469911  0.502077  0.492137   0.837364  0.078981  1\n",
       "1759  0.492604  0.489220  0.521062  0.504255   0.854695  0.056975  1\n",
       "1760  0.502178  0.501395  0.529281  0.512894   0.867049  0.077581  1\n",
       "1761  0.518335  0.503363  0.541204  0.519613   0.876658  0.049531 -1\n",
       "\n",
       "[1762 rows x 7 columns]"
      ]
     },
     "execution_count": 33,
     "metadata": {},
     "output_type": "execute_result"
    }
   ],
   "source": [
    "scaled_dataset"
   ]
  },
  {
   "cell_type": "code",
   "execution_count": 46,
   "id": "4f855ebd",
   "metadata": {},
   "outputs": [],
   "source": [
    "#defining predictors\n",
    "X = scaled_dataset.drop(columns = [\"y\"])\n",
    "y = scaled_dataset[\"y\"]"
   ]
  },
  {
   "cell_type": "code",
   "execution_count": 47,
   "id": "34340103",
   "metadata": {},
   "outputs": [
    {
     "name": "stdout",
     "output_type": "stream",
     "text": [
      "No. of training examples:1409\n",
      "No. of testing examples:353\n"
     ]
    }
   ],
   "source": [
    "X_train, X_test, y_train, y_test = train_test_split(X,y,test_size= 0.2)\n",
    "print(f\"No. of training examples:{X_train.shape[0]}\")\n",
    "print(f\"No. of testing examples:{X_test.shape[0]}\")"
   ]
  },
  {
   "cell_type": "markdown",
   "id": "f1381c1b",
   "metadata": {},
   "source": [
    "# K-Nearest Neighbors\n"
   ]
  },
  {
   "cell_type": "code",
   "execution_count": 50,
   "id": "4de80579",
   "metadata": {},
   "outputs": [],
   "source": [
    "#Fit the model in training set and using scalar transform\n",
    "scaler = StandardScaler()\n",
    "scaler.fit(X_train)\n",
    "X_train = scaler.transform(X_train)\n",
    "X_test = scaler.transform(X_test)"
   ]
  },
  {
   "cell_type": "code",
   "execution_count": 51,
   "id": "54811057",
   "metadata": {},
   "outputs": [
    {
     "data": {
      "text/plain": [
       "KNeighborsClassifier()"
      ]
     },
     "execution_count": 51,
     "metadata": {},
     "output_type": "execute_result"
    }
   ],
   "source": [
    "#using classifiers/model knn = 5\n",
    "classifier = KNeighborsClassifier(n_neighbors = 5)\n",
    "classifier.fit(X_train, y_train)"
   ]
  },
  {
   "cell_type": "code",
   "execution_count": 52,
   "id": "1a8ca639",
   "metadata": {},
   "outputs": [],
   "source": [
    "#Making the prediction system using classifier and prediction\n",
    "y_pred = classifier.predict(X_test)"
   ]
  },
  {
   "cell_type": "code",
   "execution_count": 53,
   "id": "12f4a1c9",
   "metadata": {},
   "outputs": [
    {
     "name": "stdout",
     "output_type": "stream",
     "text": [
      "Confusion Matrix:\n",
      "[[84 95]\n",
      " [77 97]]\n",
      "Classification Report:\n",
      "              precision    recall  f1-score   support\n",
      "\n",
      "          -1       0.52      0.47      0.49       179\n",
      "           1       0.51      0.56      0.53       174\n",
      "\n",
      "    accuracy                           0.51       353\n",
      "   macro avg       0.51      0.51      0.51       353\n",
      "weighted avg       0.51      0.51      0.51       353\n",
      "\n",
      "Accuracy: 51.27478753541076\n"
     ]
    }
   ],
   "source": [
    "#printing confusion matrix and model Accuracy\n",
    "result = confusion_matrix(y_test, y_pred)\n",
    "print(\"Confusion Matrix:\")\n",
    "print(result)\n",
    "result1 = classification_report(y_test, y_pred)\n",
    "print(\"Classification Report:\",)\n",
    "print (result1)\n",
    "knn_result = accuracy_score(y_test,y_pred)\n",
    "print(\"Accuracy:\",knn_result*100)"
   ]
  },
  {
   "cell_type": "markdown",
   "id": "5ec0d9a2",
   "metadata": {},
   "source": [
    "An ROC curve (receiver operating characteristic curve) is a graph showing the performance of a classification model at all classification thresholds."
   ]
  },
  {
   "cell_type": "code",
   "execution_count": 54,
   "id": "9abd6664",
   "metadata": {},
   "outputs": [
    {
     "name": "stdout",
     "output_type": "stream",
     "text": [
      "AUC: 0.53\n"
     ]
    },
    {
     "data": {
      "image/png": "[encoded data removed]",
      "text/plain": [
       "<Figure size 432x288 with 1 Axes>"
      ]
     },
     "metadata": {
      "needs_background": "light"
     },
     "output_type": "display_data"
    }
   ],
   "source": [
    "def plot_roc_curve(fpr, tpr):\n",
    "    plt.plot(fpr, tpr, color='orange', label='ROC')\n",
    "    plt.plot([0, 1], [0, 1], color='darkblue', linestyle='--')\n",
    "    plt.xlabel('False Positive Rate')\n",
    "    plt.ylabel('True Positive Rate')\n",
    "    plt.title('Receiver Operating Characteristic (ROC) Curve')\n",
    "    plt.legend()\n",
    "    plt.show()\n",
    "\n",
    "\n",
    "model = KNeighborsClassifier()\n",
    "model.fit(X_train, y_train)\n",
    "\n",
    "probs = model.predict_proba(X_test)\n",
    "\n",
    "probs = probs[:, 1]\n",
    "\n",
    "auc = roc_auc_score(y_test, probs)\n",
    "print('AUC: %.2f' % auc)\n",
    "\n",
    "fpr, tpr, thresholds = roc_curve(y_test, probs)\n",
    "plot_roc_curve(fpr, tpr)"
   ]
  },
  {
   "cell_type": "markdown",
   "id": "597804cc",
   "metadata": {},
   "source": [
    "# Random Forest"
   ]
  },
  {
   "cell_type": "code",
   "execution_count": 55,
   "id": "8e86b915",
   "metadata": {},
   "outputs": [],
   "source": [
    "# Import the model we are using\n",
    "from sklearn.ensemble import RandomForestRegressor"
   ]
  },
  {
   "cell_type": "code",
   "execution_count": 56,
   "id": "67691839",
   "metadata": {},
   "outputs": [],
   "source": [
    "# Instantiate model with 1000 decision trees\n",
    "rf = RandomForestRegressor(n_estimators = 10, random_state = 42)"
   ]
  },
  {
   "cell_type": "code",
   "execution_count": 57,
   "id": "f1e6e089",
   "metadata": {},
   "outputs": [
    {
     "name": "stdout",
     "output_type": "stream",
     "text": [
      "Confusion Matrix:\n",
      "[[84 95]\n",
      " [77 97]]\n",
      "Classification Report:\n",
      "              precision    recall  f1-score   support\n",
      "\n",
      "          -1       0.52      0.47      0.49       179\n",
      "           1       0.51      0.56      0.53       174\n",
      "\n",
      "    accuracy                           0.51       353\n",
      "   macro avg       0.51      0.51      0.51       353\n",
      "weighted avg       0.51      0.51      0.51       353\n",
      "\n",
      "Accuracy: 51.27478753541076\n"
     ]
    }
   ],
   "source": [
    "#fit the model on train dataset\n",
    "model.fit(X_train, y_train)\n",
    "\n",
    "\n",
    "y_pred =  model.predict(X_test)\n",
    "\n",
    "#printing confusion matrix and model Accuracy\n",
    "result = confusion_matrix(y_test, y_pred)\n",
    "print(\"Confusion Matrix:\")\n",
    "print(result)\n",
    "result1 = classification_report(y_test, y_pred)\n",
    "print(\"Classification Report:\",)\n",
    "print (result1)\n",
    "rf_result = accuracy_score(y_test,y_pred)\n",
    "print(\"Accuracy:\",rf_result*100)"
   ]
  },
  {
   "cell_type": "code",
   "execution_count": 58,
   "id": "048e3fb5",
   "metadata": {},
   "outputs": [
    {
     "name": "stdout",
     "output_type": "stream",
     "text": [
      "AUC: 0.50\n"
     ]
    },
    {
     "data": {
      "image/png": "[encoded data removed]",
      "text/plain": [
       "<Figure size 432x288 with 1 Axes>"
      ]
     },
     "metadata": {
      "needs_background": "light"
     },
     "output_type": "display_data"
    }
   ],
   "source": [
    "def plot_roc_curve(fpr, tpr):\n",
    "    plt.plot(fpr, tpr, color='orange', label='ROC')\n",
    "    plt.plot([0, 1], [0, 1], color='darkblue', linestyle='--')\n",
    "    plt.xlabel('False Positive Rate')\n",
    "    plt.ylabel('True Positive Rate')\n",
    "    plt.title('Receiver Operating Characteristic (ROC) Curve')\n",
    "    plt.legend()\n",
    "    plt.show()\n",
    "\n",
    "\n",
    "model = RandomForestClassifier()\n",
    "model.fit(X_train, y_train)\n",
    "\n",
    "probs = model.predict_proba(X_test)\n",
    "\n",
    "probs = probs[:, 1]\n",
    "\n",
    "auc = roc_auc_score(y_test, probs)\n",
    "print('AUC: %.2f' % auc)\n",
    "\n",
    "fpr, tpr, thresholds = roc_curve(y_test, probs)\n",
    "plot_roc_curve(fpr, tpr)"
   ]
  },
  {
   "cell_type": "markdown",
   "id": "4280a86d",
   "metadata": {},
   "source": [
    "# Gradient Boosting"
   ]
  },
  {
   "cell_type": "code",
   "execution_count": 59,
   "id": "0cdcf841",
   "metadata": {},
   "outputs": [],
   "source": [
    "from sklearn.ensemble import GradientBoostingClassifier"
   ]
  },
  {
   "cell_type": "code",
   "execution_count": 60,
   "id": "1389a3f6",
   "metadata": {},
   "outputs": [],
   "source": [
    "clf = GradientBoostingClassifier(n_estimators=100, learning_rate=1.0,max_depth=1, random_state=0).fit(X_train, y_train)"
   ]
  },
  {
   "cell_type": "code",
   "execution_count": 61,
   "id": "6fa78b2e",
   "metadata": {},
   "outputs": [
    {
     "name": "stdout",
     "output_type": "stream",
     "text": [
      "Confusion Matrix:\n",
      "[[92 87]\n",
      " [81 93]]\n",
      "Classification Report:\n",
      "              precision    recall  f1-score   support\n",
      "\n",
      "          -1       0.53      0.51      0.52       179\n",
      "           1       0.52      0.53      0.53       174\n",
      "\n",
      "    accuracy                           0.52       353\n",
      "   macro avg       0.52      0.52      0.52       353\n",
      "weighted avg       0.52      0.52      0.52       353\n",
      "\n",
      "Accuracy: 52.40793201133145\n"
     ]
    }
   ],
   "source": [
    "#fit the model on train dataset\n",
    "model.fit(X_train, y_train)\n",
    "\n",
    "y_pred =  model.predict(X_test)\n",
    "\n",
    "#printing confusion matrix and model Accuracy\n",
    "result = confusion_matrix(y_test, y_pred)\n",
    "print(\"Confusion Matrix:\")\n",
    "print(result)\n",
    "result1 = classification_report(y_test, y_pred)\n",
    "print(\"Classification Report:\",)\n",
    "print (result1)\n",
    "clf_result = accuracy_score(y_test,y_pred)\n",
    "print(\"Accuracy:\",clf_result*100)"
   ]
  },
  {
   "cell_type": "code",
   "execution_count": 62,
   "id": "d6b23f5a",
   "metadata": {},
   "outputs": [
    {
     "name": "stdout",
     "output_type": "stream",
     "text": [
      "AUC: 0.49\n"
     ]
    },
    {
     "data": {
      "image/png": "[encoded data removed]",
      "text/plain": [
       "<Figure size 432x288 with 1 Axes>"
      ]
     },
     "metadata": {
      "needs_background": "light"
     },
     "output_type": "display_data"
    }
   ],
   "source": [
    "def plot_roc_curve(fpr, tpr):\n",
    "    plt.plot(fpr, tpr, color='orange', label='ROC')\n",
    "    plt.plot([0, 1], [0, 1], color='darkblue', linestyle='--')\n",
    "    plt.xlabel('False Positive Rate')\n",
    "    plt.ylabel('True Positive Rate')\n",
    "    plt.title('Receiver Operating Characteristic (ROC) Curve')\n",
    "    plt.legend()\n",
    "    plt.show()\n",
    "\n",
    "\n",
    "model = GradientBoostingClassifier()\n",
    "model.fit(X_train, y_train)\n",
    "\n",
    "probs = model.predict_proba(X_test)\n",
    "\n",
    "probs = probs[:, 1]\n",
    "\n",
    "auc = roc_auc_score(y_test, probs)\n",
    "print('AUC: %.2f' % auc)\n",
    "\n",
    "fpr, tpr, thresholds = roc_curve(y_test, probs)\n",
    "plot_roc_curve(fpr, tpr)"
   ]
  },
  {
   "cell_type": "markdown",
   "id": "0c57e745",
   "metadata": {},
   "source": [
    "# Support Vector Machine"
   ]
  },
  {
   "cell_type": "code",
   "execution_count": 63,
   "id": "cdd0ef70",
   "metadata": {},
   "outputs": [],
   "source": [
    "from sklearn.svm import SVC"
   ]
  },
  {
   "cell_type": "code",
   "execution_count": 64,
   "id": "b8dbc3c9",
   "metadata": {},
   "outputs": [],
   "source": [
    "from sklearn.svm import SVC\n",
    "svm = SVC (kernel=\"linear\", C=0.025, random_state=101)\n",
    "svm.fit(X_train, y_train)\n",
    "y_pred=svm.predict(X_test)"
   ]
  },
  {
   "cell_type": "code",
   "execution_count": 65,
   "id": "d850ce70",
   "metadata": {},
   "outputs": [
    {
     "name": "stdout",
     "output_type": "stream",
     "text": [
      "Confusion Matrix:\n",
      "[[  0 179]\n",
      " [  0 174]]\n",
      "Classification Report:\n",
      "              precision    recall  f1-score   support\n",
      "\n",
      "          -1       0.00      0.00      0.00       179\n",
      "           1       0.49      1.00      0.66       174\n",
      "\n",
      "    accuracy                           0.49       353\n",
      "   macro avg       0.25      0.50      0.33       353\n",
      "weighted avg       0.24      0.49      0.33       353\n",
      "\n",
      "Accuracy: 49.29178470254957\n"
     ]
    },
    {
     "name": "stderr",
     "output_type": "stream",
     "text": [
      "C:\\Users\\HP\\anaconda3\\lib\\site-packages\\sklearn\\metrics\\_classification.py:1245: UndefinedMetricWarning: Precision and F-score are ill-defined and being set to 0.0 in labels with no predicted samples. Use `zero_division` parameter to control this behavior.\n",
      "  _warn_prf(average, modifier, msg_start, len(result))\n",
      "C:\\Users\\HP\\anaconda3\\lib\\site-packages\\sklearn\\metrics\\_classification.py:1245: UndefinedMetricWarning: Precision and F-score are ill-defined and being set to 0.0 in labels with no predicted samples. Use `zero_division` parameter to control this behavior.\n",
      "  _warn_prf(average, modifier, msg_start, len(result))\n",
      "C:\\Users\\HP\\anaconda3\\lib\\site-packages\\sklearn\\metrics\\_classification.py:1245: UndefinedMetricWarning: Precision and F-score are ill-defined and being set to 0.0 in labels with no predicted samples. Use `zero_division` parameter to control this behavior.\n",
      "  _warn_prf(average, modifier, msg_start, len(result))\n"
     ]
    }
   ],
   "source": [
    "#printing confusion matrix and model Accuracy\n",
    "result = confusion_matrix(y_test, y_pred)\n",
    "print(\"Confusion Matrix:\")\n",
    "print(result)\n",
    "result1 = classification_report(y_test, y_pred)\n",
    "print(\"Classification Report:\",)\n",
    "print (result1)\n",
    "svm_result = accuracy_score(y_test,y_pred)\n",
    "print(\"Accuracy:\",svm_result*100)"
   ]
  },
  {
   "cell_type": "code",
   "execution_count": 66,
   "id": "f02e4685",
   "metadata": {},
   "outputs": [
    {
     "name": "stdout",
     "output_type": "stream",
     "text": [
      "AUC: 0.52\n"
     ]
    },
    {
     "data": {
      "image/png": "[encoded data removed]",
      "text/plain": [
       "<Figure size 432x288 with 1 Axes>"
      ]
     },
     "metadata": {
      "needs_background": "light"
     },
     "output_type": "display_data"
    }
   ],
   "source": [
    "def plot_roc_curve(fpr, tpr):\n",
    "    plt.plot(fpr, tpr, color='orange', label='ROC')\n",
    "    plt.plot([0, 1], [0, 1], color='darkblue', linestyle='--')\n",
    "    plt.xlabel('False Positive Rate')\n",
    "    plt.ylabel('True Positive Rate')\n",
    "    plt.title('Receiver Operating Characteristic (ROC) Curve')\n",
    "    plt.legend()\n",
    "    plt.show()\n",
    "\n",
    "model = SVC(probability=True)\n",
    "model.fit(X_train, y_train)\n",
    "\n",
    "probs = model.predict_proba(X_test)\n",
    "\n",
    "probs = probs[:, 1]\n",
    "\n",
    "    \n",
    "    \n",
    "auc = roc_auc_score(y_test, probs)\n",
    "print('AUC: %.2f' % auc)\n",
    "\n",
    "fpr, tpr, thresholds = roc_curve(y_test, probs)\n",
    "plot_roc_curve(fpr, tpr)"
   ]
  },
  {
   "cell_type": "markdown",
   "id": "51c6e533",
   "metadata": {},
   "source": [
    "# XGBoost Algorithm"
   ]
  },
  {
   "cell_type": "code",
   "execution_count": 67,
   "id": "2294f41c",
   "metadata": {},
   "outputs": [
    {
     "name": "stderr",
     "output_type": "stream",
     "text": [
      "C:\\Users\\HP\\anaconda3\\lib\\site-packages\\xgboost\\sklearn.py:888: UserWarning: The use of label encoder in XGBClassifier is deprecated and will be removed in a future release. To remove this warning, do the following: 1) Pass option use_label_encoder=False when constructing XGBClassifier object; and 2) Encode your labels (y) as integers starting with 0, i.e. 0, 1, 2, ..., [num_class - 1].\n",
      "  warnings.warn(label_encoder_deprecation_msg, UserWarning)\n"
     ]
    },
    {
     "name": "stdout",
     "output_type": "stream",
     "text": [
      "[15:06:34] WARNING: ..\\src\\learner.cc:1061: Starting in XGBoost 1.3.0, the default evaluation metric used with the objective 'binary:logistic' was changed from 'error' to 'logloss'. Explicitly set eval_metric if you'd like to restore the old behavior.\n"
     ]
    }
   ],
   "source": [
    "model = XGBClassifier()\n",
    "\n",
    "model.fit(X_train, y_train)\n",
    "\n",
    "y_pred =  model.predict(X_test)"
   ]
  },
  {
   "cell_type": "code",
   "execution_count": 68,
   "id": "233b1d65",
   "metadata": {},
   "outputs": [
    {
     "name": "stdout",
     "output_type": "stream",
     "text": [
      "Confusion Matrix:\n",
      "[[ 90  89]\n",
      " [ 74 100]]\n",
      "Classification Report:\n",
      "              precision    recall  f1-score   support\n",
      "\n",
      "          -1       0.55      0.50      0.52       179\n",
      "           1       0.53      0.57      0.55       174\n",
      "\n",
      "    accuracy                           0.54       353\n",
      "   macro avg       0.54      0.54      0.54       353\n",
      "weighted avg       0.54      0.54      0.54       353\n",
      "\n",
      "Accuracy: 53.82436260623229\n"
     ]
    }
   ],
   "source": [
    "#printing confusion matrix and model Accuracy\n",
    "result = confusion_matrix(y_test, y_pred)\n",
    "print(\"Confusion Matrix:\")\n",
    "print(result)\n",
    "result1 = classification_report(y_test, y_pred)\n",
    "print(\"Classification Report:\",)\n",
    "print (result1)\n",
    "xgb_result = accuracy_score(y_test,y_pred)\n",
    "print(\"Accuracy:\",xgb_result*100)"
   ]
  },
  {
   "cell_type": "code",
   "execution_count": 69,
   "id": "56c16e65",
   "metadata": {},
   "outputs": [
    {
     "name": "stderr",
     "output_type": "stream",
     "text": [
      "C:\\Users\\HP\\anaconda3\\lib\\site-packages\\xgboost\\sklearn.py:888: UserWarning: The use of label encoder in XGBClassifier is deprecated and will be removed in a future release. To remove this warning, do the following: 1) Pass option use_label_encoder=False when constructing XGBClassifier object; and 2) Encode your labels (y) as integers starting with 0, i.e. 0, 1, 2, ..., [num_class - 1].\n",
      "  warnings.warn(label_encoder_deprecation_msg, UserWarning)\n"
     ]
    },
    {
     "name": "stdout",
     "output_type": "stream",
     "text": [
      "[15:06:36] WARNING: ..\\src\\learner.cc:1061: Starting in XGBoost 1.3.0, the default evaluation metric used with the objective 'binary:logistic' was changed from 'error' to 'logloss'. Explicitly set eval_metric if you'd like to restore the old behavior.\n",
      "AUC: 0.51\n"
     ]
    },
    {
     "data": {
      "image/png": "[encoded data removed]",
      "text/plain": [
       "<Figure size 432x288 with 1 Axes>"
      ]
     },
     "metadata": {
      "needs_background": "light"
     },
     "output_type": "display_data"
    }
   ],
   "source": [
    "def plot_roc_curve(fpr, tpr):\n",
    "    plt.plot(fpr, tpr, color='orange', label='ROC')\n",
    "    plt.plot([0, 1], [0, 1], color='darkblue', linestyle='--')\n",
    "    plt.xlabel('False Positive Rate')\n",
    "    plt.ylabel('True Positive Rate')\n",
    "    plt.title('Receiver Operating Characteristic (ROC) Curve')\n",
    "    plt.legend()\n",
    "    plt.show()\n",
    "\n",
    "\n",
    "model = XGBClassifier()\n",
    "model.fit(X_train, y_train)\n",
    "\n",
    "probs = model.predict_proba(X_test)\n",
    "\n",
    "probs = probs[:, 1]\n",
    "\n",
    "auc = roc_auc_score(y_test, probs)\n",
    "print('AUC: %.2f' % auc)\n",
    "\n",
    "fpr, tpr, thresholds = roc_curve(y_test, probs)\n",
    "plot_roc_curve(fpr, tpr)"
   ]
  },
  {
   "cell_type": "code",
   "execution_count": 70,
   "id": "f364bf2e",
   "metadata": {
    "scrolled": false
   },
   "outputs": [
    {
     "data": {
      "text/html": [
       "<div>\n",
       "<style scoped>\n",
       "    .dataframe tbody tr th:only-of-type {\n",
       "        vertical-align: middle;\n",
       "    }\n",
       "\n",
       "    .dataframe tbody tr th {\n",
       "        vertical-align: top;\n",
       "    }\n",
       "\n",
       "    .dataframe thead th {\n",
       "        text-align: right;\n",
       "    }\n",
       "</style>\n",
       "<table border=\"1\" class=\"dataframe\">\n",
       "  <thead>\n",
       "    <tr style=\"text-align: right;\">\n",
       "      <th></th>\n",
       "      <th>Algorithm</th>\n",
       "      <th>Accuracy</th>\n",
       "    </tr>\n",
       "  </thead>\n",
       "  <tbody>\n",
       "    <tr>\n",
       "      <th>4</th>\n",
       "      <td>XGBoost Algorithm (XGB)</td>\n",
       "      <td>53.824363</td>\n",
       "    </tr>\n",
       "    <tr>\n",
       "      <th>2</th>\n",
       "      <td>Gradient Boosting</td>\n",
       "      <td>52.407932</td>\n",
       "    </tr>\n",
       "    <tr>\n",
       "      <th>0</th>\n",
       "      <td>K-Nearest Neighbors (KNN)</td>\n",
       "      <td>51.274788</td>\n",
       "    </tr>\n",
       "    <tr>\n",
       "      <th>1</th>\n",
       "      <td>Random Forest</td>\n",
       "      <td>51.274788</td>\n",
       "    </tr>\n",
       "    <tr>\n",
       "      <th>3</th>\n",
       "      <td>Support Vector Machine</td>\n",
       "      <td>49.291785</td>\n",
       "    </tr>\n",
       "  </tbody>\n",
       "</table>\n",
       "</div>"
      ],
      "text/plain": [
       "                   Algorithm   Accuracy\n",
       "4    XGBoost Algorithm (XGB)  53.824363\n",
       "2          Gradient Boosting  52.407932\n",
       "0  K-Nearest Neighbors (KNN)  51.274788\n",
       "1              Random Forest  51.274788\n",
       "3     Support Vector Machine  49.291785"
      ]
     },
     "execution_count": 70,
     "metadata": {},
     "output_type": "execute_result"
    }
   ],
   "source": [
    "results_123 = pd.DataFrame([\n",
    "\n",
    "    {'Algorithm' : 'K-Nearest Neighbors (KNN)', 'Accuracy' : knn_result*100},\n",
    "    \n",
    "    {'Algorithm' : 'Random Forest', 'Accuracy' : rf_result*100},\n",
    "    \n",
    "    {'Algorithm' : 'Gradient Boosting', 'Accuracy' : clf_result*100},\n",
    "    \n",
    "    {'Algorithm' : 'Support Vector Machine', 'Accuracy' : svm_result*100},\n",
    "    \n",
    "    {'Algorithm' : 'XGBoost Algorithm (XGB)', 'Accuracy' : xgb_result*100}\n",
    "    \n",
    "   \n",
    "\n",
    "])\n",
    "\n",
    "results_123.sort_values(by=['Accuracy'], ascending=False)"
   ]
  },
  {
   "cell_type": "markdown",
   "id": "492c96f3",
   "metadata": {},
   "source": [
    "# Strategy num 2"
   ]
  },
  {
   "cell_type": "code",
   "execution_count": 73,
   "id": "b42c57f2",
   "metadata": {},
   "outputs": [],
   "source": [
    "training_set = data.iloc[:,1:2].values"
   ]
  },
  {
   "cell_type": "code",
   "execution_count": 74,
   "id": "514dfa00",
   "metadata": {},
   "outputs": [
    {
     "data": {
      "text/plain": [
       "array([[0.6285715 ],\n",
       "       [0.61410929],\n",
       "       [0.53074662],\n",
       "       ...,\n",
       "       [0.48921954],\n",
       "       [0.50139527],\n",
       "       [0.50336291]])"
      ]
     },
     "execution_count": 74,
     "metadata": {},
     "output_type": "execute_result"
    }
   ],
   "source": [
    "from sklearn.preprocessing import MinMaxScaler\n",
    "\n",
    "scaler = MinMaxScaler(feature_range = (0,1))\n",
    "scaled_training_set = scaler.fit_transform(training_set)\n",
    "\n",
    "scaled_training_set"
   ]
  },
  {
   "cell_type": "code",
   "execution_count": 75,
   "id": "b0e5d69a",
   "metadata": {},
   "outputs": [
    {
     "data": {
      "text/html": [
       "<div>\n",
       "<style scoped>\n",
       "    .dataframe tbody tr th:only-of-type {\n",
       "        vertical-align: middle;\n",
       "    }\n",
       "\n",
       "    .dataframe tbody tr th {\n",
       "        vertical-align: top;\n",
       "    }\n",
       "\n",
       "    .dataframe thead th {\n",
       "        text-align: right;\n",
       "    }\n",
       "</style>\n",
       "<table border=\"1\" class=\"dataframe\">\n",
       "  <thead>\n",
       "    <tr style=\"text-align: right;\">\n",
       "      <th></th>\n",
       "      <th>Open</th>\n",
       "      <th>High</th>\n",
       "      <th>Low</th>\n",
       "      <th>Close</th>\n",
       "      <th>Adj Close</th>\n",
       "      <th>Volume</th>\n",
       "      <th>y</th>\n",
       "      <th>50_sma</th>\n",
       "      <th>200_sma</th>\n",
       "      <th>signal</th>\n",
       "    </tr>\n",
       "  </thead>\n",
       "  <tbody>\n",
       "    <tr>\n",
       "      <th>199</th>\n",
       "      <td>0.639016</td>\n",
       "      <td>0.628571</td>\n",
       "      <td>0.649624</td>\n",
       "      <td>0.637990</td>\n",
       "      <td>0.450788</td>\n",
       "      <td>0.062128</td>\n",
       "      <td>-1</td>\n",
       "      <td>0.426598</td>\n",
       "      <td>0.546675</td>\n",
       "      <td>0</td>\n",
       "    </tr>\n",
       "    <tr>\n",
       "      <th>200</th>\n",
       "      <td>0.632151</td>\n",
       "      <td>0.614109</td>\n",
       "      <td>0.639885</td>\n",
       "      <td>0.624570</td>\n",
       "      <td>0.436225</td>\n",
       "      <td>0.183391</td>\n",
       "      <td>-1</td>\n",
       "      <td>0.425130</td>\n",
       "      <td>0.546103</td>\n",
       "      <td>0</td>\n",
       "    </tr>\n",
       "    <tr>\n",
       "      <th>201</th>\n",
       "      <td>0.547941</td>\n",
       "      <td>0.530747</td>\n",
       "      <td>0.550133</td>\n",
       "      <td>0.526153</td>\n",
       "      <td>0.329431</td>\n",
       "      <td>0.402289</td>\n",
       "      <td>1</td>\n",
       "      <td>0.421119</td>\n",
       "      <td>0.545153</td>\n",
       "      <td>0</td>\n",
       "    </tr>\n",
       "    <tr>\n",
       "      <th>202</th>\n",
       "      <td>0.522311</td>\n",
       "      <td>0.528160</td>\n",
       "      <td>0.539398</td>\n",
       "      <td>0.529364</td>\n",
       "      <td>0.332916</td>\n",
       "      <td>0.157242</td>\n",
       "      <td>1</td>\n",
       "      <td>0.417487</td>\n",
       "      <td>0.544429</td>\n",
       "      <td>0</td>\n",
       "    </tr>\n",
       "    <tr>\n",
       "      <th>203</th>\n",
       "      <td>0.539359</td>\n",
       "      <td>0.556496</td>\n",
       "      <td>0.565073</td>\n",
       "      <td>0.565726</td>\n",
       "      <td>0.372372</td>\n",
       "      <td>0.119071</td>\n",
       "      <td>1</td>\n",
       "      <td>0.414483</td>\n",
       "      <td>0.543964</td>\n",
       "      <td>0</td>\n",
       "    </tr>\n",
       "    <tr>\n",
       "      <th>...</th>\n",
       "      <td>...</td>\n",
       "      <td>...</td>\n",
       "      <td>...</td>\n",
       "      <td>...</td>\n",
       "      <td>...</td>\n",
       "      <td>...</td>\n",
       "      <td>...</td>\n",
       "      <td>...</td>\n",
       "      <td>...</td>\n",
       "      <td>...</td>\n",
       "    </tr>\n",
       "    <tr>\n",
       "      <th>1757</th>\n",
       "      <td>0.473455</td>\n",
       "      <td>0.461425</td>\n",
       "      <td>0.497100</td>\n",
       "      <td>0.480259</td>\n",
       "      <td>0.820377</td>\n",
       "      <td>0.062259</td>\n",
       "      <td>1</td>\n",
       "      <td>0.674625</td>\n",
       "      <td>0.790934</td>\n",
       "      <td>0</td>\n",
       "    </tr>\n",
       "    <tr>\n",
       "      <th>1758</th>\n",
       "      <td>0.480995</td>\n",
       "      <td>0.469911</td>\n",
       "      <td>0.502077</td>\n",
       "      <td>0.492137</td>\n",
       "      <td>0.837364</td>\n",
       "      <td>0.078981</td>\n",
       "      <td>1</td>\n",
       "      <td>0.673370</td>\n",
       "      <td>0.792127</td>\n",
       "      <td>0</td>\n",
       "    </tr>\n",
       "    <tr>\n",
       "      <th>1759</th>\n",
       "      <td>0.492604</td>\n",
       "      <td>0.489220</td>\n",
       "      <td>0.521062</td>\n",
       "      <td>0.504255</td>\n",
       "      <td>0.854695</td>\n",
       "      <td>0.056975</td>\n",
       "      <td>1</td>\n",
       "      <td>0.672066</td>\n",
       "      <td>0.793331</td>\n",
       "      <td>0</td>\n",
       "    </tr>\n",
       "    <tr>\n",
       "      <th>1760</th>\n",
       "      <td>0.502178</td>\n",
       "      <td>0.501395</td>\n",
       "      <td>0.529281</td>\n",
       "      <td>0.512894</td>\n",
       "      <td>0.867049</td>\n",
       "      <td>0.077581</td>\n",
       "      <td>1</td>\n",
       "      <td>0.671750</td>\n",
       "      <td>0.794623</td>\n",
       "      <td>0</td>\n",
       "    </tr>\n",
       "    <tr>\n",
       "      <th>1761</th>\n",
       "      <td>0.518335</td>\n",
       "      <td>0.503363</td>\n",
       "      <td>0.541204</td>\n",
       "      <td>0.519613</td>\n",
       "      <td>0.876658</td>\n",
       "      <td>0.049531</td>\n",
       "      <td>-1</td>\n",
       "      <td>0.671737</td>\n",
       "      <td>0.795901</td>\n",
       "      <td>0</td>\n",
       "    </tr>\n",
       "  </tbody>\n",
       "</table>\n",
       "<p>1563 rows × 10 columns</p>\n",
       "</div>"
      ],
      "text/plain": [
       "          Open      High       Low     Close  Adj Close    Volume  y  \\\n",
       "199   0.639016  0.628571  0.649624  0.637990   0.450788  0.062128 -1   \n",
       "200   0.632151  0.614109  0.639885  0.624570   0.436225  0.183391 -1   \n",
       "201   0.547941  0.530747  0.550133  0.526153   0.329431  0.402289  1   \n",
       "202   0.522311  0.528160  0.539398  0.529364   0.332916  0.157242  1   \n",
       "203   0.539359  0.556496  0.565073  0.565726   0.372372  0.119071  1   \n",
       "...        ...       ...       ...       ...        ...       ... ..   \n",
       "1757  0.473455  0.461425  0.497100  0.480259   0.820377  0.062259  1   \n",
       "1758  0.480995  0.469911  0.502077  0.492137   0.837364  0.078981  1   \n",
       "1759  0.492604  0.489220  0.521062  0.504255   0.854695  0.056975  1   \n",
       "1760  0.502178  0.501395  0.529281  0.512894   0.867049  0.077581  1   \n",
       "1761  0.518335  0.503363  0.541204  0.519613   0.876658  0.049531 -1   \n",
       "\n",
       "        50_sma   200_sma  signal  \n",
       "199   0.426598  0.546675       0  \n",
       "200   0.425130  0.546103       0  \n",
       "201   0.421119  0.545153       0  \n",
       "202   0.417487  0.544429       0  \n",
       "203   0.414483  0.543964       0  \n",
       "...        ...       ...     ...  \n",
       "1757  0.674625  0.790934       0  \n",
       "1758  0.673370  0.792127       0  \n",
       "1759  0.672066  0.793331       0  \n",
       "1760  0.671750  0.794623       0  \n",
       "1761  0.671737  0.795901       0  \n",
       "\n",
       "[1563 rows x 10 columns]"
      ]
     },
     "execution_count": 75,
     "metadata": {},
     "output_type": "execute_result"
    }
   ],
   "source": [
    "data"
   ]
  },
  {
   "cell_type": "code",
   "execution_count": 76,
   "id": "039badde",
   "metadata": {},
   "outputs": [],
   "source": [
    "x= data.iloc[:, :-3]\n",
    "y= data.iloc[:, -1]\n",
    "\n",
    "x_train, x_test, y_train, y_test= train_test_split(x, y,test_size= 0.2,shuffle= True,random_state= 0)\n",
    "x_train= np.asarray(x_train)\n",
    "y_train= np.asarray(y_train)\n",
    "\n",
    "x_test= np.asarray(x_test)\n",
    "y_test= np.asarray(y_test)"
   ]
  },
  {
   "cell_type": "code",
   "execution_count": 77,
   "id": "1e7cfec9",
   "metadata": {
    "scrolled": true
   },
   "outputs": [
    {
     "name": "stdout",
     "output_type": "stream",
     "text": [
      "No. of training examples:1250\n",
      "No. of testing examples:313\n"
     ]
    }
   ],
   "source": [
    "x_train, x_test, y_train, y_test = train_test_split(x,y,test_size= 0.2)\n",
    "print(f\"No. of training examples:{x_train.shape[0]}\")\n",
    "print(f\"No. of testing examples:{x_test.shape[0]}\")"
   ]
  },
  {
   "cell_type": "markdown",
   "id": "b66ae1e5",
   "metadata": {},
   "source": [
    "# K-Nearest Neighbor"
   ]
  },
  {
   "cell_type": "code",
   "execution_count": 78,
   "id": "4df60f4e",
   "metadata": {},
   "outputs": [],
   "source": [
    "#Fit the model in training set and using scalar transform\n",
    "scaler = StandardScaler()\n",
    "scaler.fit(x_train)\n",
    "x_train = scaler.transform(x_train)\n",
    "x_test = scaler.transform(x_test)"
   ]
  },
  {
   "cell_type": "code",
   "execution_count": 79,
   "id": "a2d4a0ac",
   "metadata": {},
   "outputs": [
    {
     "data": {
      "text/plain": [
       "KNeighborsClassifier()"
      ]
     },
     "execution_count": 79,
     "metadata": {},
     "output_type": "execute_result"
    }
   ],
   "source": [
    "#using classifiers/model knn = 5\n",
    "classifier = KNeighborsClassifier(n_neighbors = 5)\n",
    "classifier.fit(x_train, y_train)"
   ]
  },
  {
   "cell_type": "code",
   "execution_count": 80,
   "id": "8f4ab043",
   "metadata": {},
   "outputs": [],
   "source": [
    "#Making the prediction system using classifier and prediction\n",
    "y_pred = classifier.predict(x_test)"
   ]
  },
  {
   "cell_type": "code",
   "execution_count": 81,
   "id": "e783960d",
   "metadata": {},
   "outputs": [
    {
     "name": "stdout",
     "output_type": "stream",
     "text": [
      "Confusion Matrix:\n",
      "[[110  25]\n",
      " [ 24 154]]\n",
      "Classification Report:\n",
      "              precision    recall  f1-score   support\n",
      "\n",
      "           0       0.82      0.81      0.82       135\n",
      "           1       0.86      0.87      0.86       178\n",
      "\n",
      "    accuracy                           0.84       313\n",
      "   macro avg       0.84      0.84      0.84       313\n",
      "weighted avg       0.84      0.84      0.84       313\n",
      "\n",
      "Accuracy: 84.34504792332268\n"
     ]
    }
   ],
   "source": [
    "#printing confusion matrix and model Accuracy\n",
    "result = confusion_matrix(y_test, y_pred)\n",
    "print(\"Confusion Matrix:\")\n",
    "print(result)\n",
    "result1 = classification_report(y_test, y_pred)\n",
    "print(\"Classification Report:\",)\n",
    "print (result1)\n",
    "knn_result = accuracy_score(y_test,y_pred)\n",
    "print(\"Accuracy:\",knn_result*100)"
   ]
  },
  {
   "cell_type": "code",
   "execution_count": 82,
   "id": "575e371b",
   "metadata": {},
   "outputs": [
    {
     "name": "stdout",
     "output_type": "stream",
     "text": [
      "AUC: 0.93\n"
     ]
    },
    {
     "data": {
      "image/png": "[encoded data removed]",
      "text/plain": [
       "<Figure size 432x288 with 1 Axes>"
      ]
     },
     "metadata": {
      "needs_background": "light"
     },
     "output_type": "display_data"
    }
   ],
   "source": [
    "def plot_roc_curve(fpr, tpr):\n",
    "    plt.plot(fpr, tpr, color='orange', label='ROC')\n",
    "    plt.plot([0, 1], [0, 1], color='darkblue', linestyle='--')\n",
    "    plt.xlabel('False Positive Rate')\n",
    "    plt.ylabel('True Positive Rate')\n",
    "    plt.title('Receiver Operating Characteristic (ROC) Curve')\n",
    "    plt.legend()\n",
    "    plt.show()\n",
    "\n",
    "\n",
    "model = KNeighborsClassifier()\n",
    "model.fit(x_train, y_train)\n",
    "\n",
    "probs = model.predict_proba(x_test)\n",
    "\n",
    "probs = probs[:, 1]\n",
    "\n",
    "auc = roc_auc_score(y_test, probs)\n",
    "print('AUC: %.2f' % auc)\n",
    "\n",
    "fpr, tpr, thresholds = roc_curve(y_test, probs)\n",
    "plot_roc_curve(fpr, tpr)"
   ]
  },
  {
   "cell_type": "markdown",
   "id": "a9629017",
   "metadata": {},
   "source": [
    "# Random Forest"
   ]
  },
  {
   "cell_type": "code",
   "execution_count": 83,
   "id": "8045d007",
   "metadata": {},
   "outputs": [],
   "source": [
    "# Import the model we are using\n",
    "from sklearn.ensemble import RandomForestRegressor"
   ]
  },
  {
   "cell_type": "code",
   "execution_count": 84,
   "id": "a4ce7961",
   "metadata": {},
   "outputs": [],
   "source": [
    "# Instantiate model with 1000 decision trees\n",
    "rf = RandomForestRegressor(n_estimators = 10, random_state = 42)"
   ]
  },
  {
   "cell_type": "code",
   "execution_count": 85,
   "id": "0b4893ef",
   "metadata": {},
   "outputs": [
    {
     "name": "stdout",
     "output_type": "stream",
     "text": [
      "Confusion Matrix:\n",
      "[[110  25]\n",
      " [ 24 154]]\n",
      "Classification Report:\n",
      "              precision    recall  f1-score   support\n",
      "\n",
      "           0       0.82      0.81      0.82       135\n",
      "           1       0.86      0.87      0.86       178\n",
      "\n",
      "    accuracy                           0.84       313\n",
      "   macro avg       0.84      0.84      0.84       313\n",
      "weighted avg       0.84      0.84      0.84       313\n",
      "\n",
      "Accuracy: 84.34504792332268\n"
     ]
    }
   ],
   "source": [
    "#fit the model on train dataset\n",
    "model.fit(x_train, y_train)\n",
    "\n",
    "#predict infection rate on 30% test data\n",
    "y_pred =  model.predict(x_test)\n",
    "\n",
    "#printing confusion matrix and model Accuracy\n",
    "result = confusion_matrix(y_test, y_pred)\n",
    "print(\"Confusion Matrix:\")\n",
    "print(result)\n",
    "result1 = classification_report(y_test, y_pred)\n",
    "print(\"Classification Report:\",)\n",
    "print (result1)\n",
    "rf_result = accuracy_score(y_test,y_pred)\n",
    "print(\"Accuracy:\",rf_result*100)"
   ]
  },
  {
   "cell_type": "code",
   "execution_count": 86,
   "id": "ca793fab",
   "metadata": {},
   "outputs": [
    {
     "name": "stdout",
     "output_type": "stream",
     "text": [
      "AUC: 0.95\n"
     ]
    },
    {
     "data": {
      "image/png": "[encoded data removed]",
      "text/plain": [
       "<Figure size 432x288 with 1 Axes>"
      ]
     },
     "metadata": {
      "needs_background": "light"
     },
     "output_type": "display_data"
    }
   ],
   "source": [
    "def plot_roc_curve(fpr, tpr):\n",
    "    plt.plot(fpr, tpr, color='orange', label='ROC')\n",
    "    plt.plot([0, 1], [0, 1], color='darkblue', linestyle='--')\n",
    "    plt.xlabel('False Positive Rate')\n",
    "    plt.ylabel('True Positive Rate')\n",
    "    plt.title('Receiver Operating Characteristic (ROC) Curve')\n",
    "    plt.legend()\n",
    "    plt.show()\n",
    "\n",
    "\n",
    "model = RandomForestClassifier()\n",
    "model.fit(x_train, y_train)\n",
    "\n",
    "probs = model.predict_proba(x_test)\n",
    "\n",
    "probs = probs[:, 1]\n",
    "\n",
    "auc = roc_auc_score(y_test, probs)\n",
    "print('AUC: %.2f' % auc)\n",
    "\n",
    "fpr, tpr, thresholds = roc_curve(y_test, probs)\n",
    "plot_roc_curve(fpr, tpr)"
   ]
  },
  {
   "cell_type": "markdown",
   "id": "697f53e0",
   "metadata": {},
   "source": [
    "# Gradient Boosting"
   ]
  },
  {
   "cell_type": "code",
   "execution_count": 87,
   "id": "3fb034ea",
   "metadata": {},
   "outputs": [],
   "source": [
    "from sklearn.ensemble import GradientBoostingClassifier"
   ]
  },
  {
   "cell_type": "code",
   "execution_count": 88,
   "id": "2425d0ff",
   "metadata": {},
   "outputs": [],
   "source": [
    "clf = GradientBoostingClassifier(n_estimators=100, learning_rate=1.0,max_depth=1, random_state=0).fit(x_train, y_train)"
   ]
  },
  {
   "cell_type": "code",
   "execution_count": 89,
   "id": "0703319e",
   "metadata": {},
   "outputs": [
    {
     "name": "stdout",
     "output_type": "stream",
     "text": [
      "Confusion Matrix:\n",
      "[[111  24]\n",
      " [ 16 162]]\n",
      "Classification Report:\n",
      "              precision    recall  f1-score   support\n",
      "\n",
      "           0       0.87      0.82      0.85       135\n",
      "           1       0.87      0.91      0.89       178\n",
      "\n",
      "    accuracy                           0.87       313\n",
      "   macro avg       0.87      0.87      0.87       313\n",
      "weighted avg       0.87      0.87      0.87       313\n",
      "\n",
      "Accuracy: 87.22044728434504\n"
     ]
    }
   ],
   "source": [
    "#fit the model on train dataset\n",
    "model.fit(x_train, y_train)\n",
    "\n",
    "y_pred =  model.predict(x_test)\n",
    "\n",
    "#printing confusion matrix and model Accuracy\n",
    "result = confusion_matrix(y_test, y_pred)\n",
    "print(\"Confusion Matrix:\")\n",
    "print(result)\n",
    "result1 = classification_report(y_test, y_pred)\n",
    "print(\"Classification Report:\",)\n",
    "print (result1)\n",
    "clf_result = accuracy_score(y_test,y_pred)\n",
    "print(\"Accuracy:\",clf_result*100)"
   ]
  },
  {
   "cell_type": "code",
   "execution_count": 90,
   "id": "5f476f83",
   "metadata": {},
   "outputs": [
    {
     "name": "stdout",
     "output_type": "stream",
     "text": [
      "AUC: 0.93\n"
     ]
    },
    {
     "data": {
      "image/png": "[encoded data removed]",
      "text/plain": [
       "<Figure size 432x288 with 1 Axes>"
      ]
     },
     "metadata": {
      "needs_background": "light"
     },
     "output_type": "display_data"
    }
   ],
   "source": [
    "def plot_roc_curve(fpr, tpr):\n",
    "    plt.plot(fpr, tpr, color='orange', label='ROC')\n",
    "    plt.plot([0, 1], [0, 1], color='darkblue', linestyle='--')\n",
    "    plt.xlabel('False Positive Rate')\n",
    "    plt.ylabel('True Positive Rate')\n",
    "    plt.title('Receiver Operating Characteristic (ROC) Curve')\n",
    "    plt.legend()\n",
    "    plt.show()\n",
    "\n",
    "\n",
    "model = GradientBoostingClassifier()\n",
    "model.fit(x_train, y_train)\n",
    "\n",
    "probs = model.predict_proba(x_test)\n",
    "\n",
    "probs = probs[:, 1]\n",
    "\n",
    "auc = roc_auc_score(y_test, probs)\n",
    "print('AUC: %.2f' % auc)\n",
    "\n",
    "fpr, tpr, thresholds = roc_curve(y_test, probs)\n",
    "plot_roc_curve(fpr, tpr)"
   ]
  },
  {
   "cell_type": "markdown",
   "id": "4c6a7a50",
   "metadata": {},
   "source": [
    "# Support Vector Machine"
   ]
  },
  {
   "cell_type": "code",
   "execution_count": 91,
   "id": "fce01f2d",
   "metadata": {},
   "outputs": [],
   "source": [
    "from sklearn.svm import SVC"
   ]
  },
  {
   "cell_type": "code",
   "execution_count": 92,
   "id": "3452e0b5",
   "metadata": {},
   "outputs": [],
   "source": [
    "from sklearn.svm import SVC\n",
    "svm = SVC (kernel=\"linear\", C=0.025, random_state=101)\n",
    "svm.fit(x_train, y_train)\n",
    "y_pred=svm.predict(x_test)"
   ]
  },
  {
   "cell_type": "code",
   "execution_count": 93,
   "id": "6d9a456e",
   "metadata": {},
   "outputs": [
    {
     "name": "stdout",
     "output_type": "stream",
     "text": [
      "Confusion Matrix:\n",
      "[[ 88  47]\n",
      " [ 33 145]]\n",
      "Classification Report:\n",
      "              precision    recall  f1-score   support\n",
      "\n",
      "           0       0.73      0.65      0.69       135\n",
      "           1       0.76      0.81      0.78       178\n",
      "\n",
      "    accuracy                           0.74       313\n",
      "   macro avg       0.74      0.73      0.74       313\n",
      "weighted avg       0.74      0.74      0.74       313\n",
      "\n",
      "Accuracy: 74.4408945686901\n"
     ]
    }
   ],
   "source": [
    "#printing confusion matrix and model Accuracy\n",
    "result = confusion_matrix(y_test, y_pred)\n",
    "print(\"Confusion Matrix:\")\n",
    "print(result)\n",
    "result1 = classification_report(y_test, y_pred)\n",
    "print(\"Classification Report:\",)\n",
    "print (result1)\n",
    "svm_result = accuracy_score(y_test,y_pred)\n",
    "print(\"Accuracy:\",svm_result*100)"
   ]
  },
  {
   "cell_type": "code",
   "execution_count": 94,
   "id": "be26e08e",
   "metadata": {},
   "outputs": [
    {
     "name": "stdout",
     "output_type": "stream",
     "text": [
      "AUC: 0.90\n"
     ]
    },
    {
     "data": {
      "image/png": "[encoded data removed]",
      "text/plain": [
       "<Figure size 432x288 with 1 Axes>"
      ]
     },
     "metadata": {
      "needs_background": "light"
     },
     "output_type": "display_data"
    }
   ],
   "source": [
    "def plot_roc_curve(fpr, tpr):\n",
    "    plt.plot(fpr, tpr, color='orange', label='ROC')\n",
    "    plt.plot([0, 1], [0, 1], color='darkblue', linestyle='--')\n",
    "    plt.xlabel('False Positive Rate')\n",
    "    plt.ylabel('True Positive Rate')\n",
    "    plt.title('Receiver Operating Characteristic (ROC) Curve')\n",
    "    plt.legend()\n",
    "    plt.show()\n",
    "\n",
    "model = SVC(probability=True)\n",
    "model.fit(x_train, y_train)\n",
    "\n",
    "probs = model.predict_proba(x_test)\n",
    "\n",
    "probs = probs[:, 1]\n",
    "\n",
    "    \n",
    "    \n",
    "auc = roc_auc_score(y_test, probs)\n",
    "print('AUC: %.2f' % auc)\n",
    "\n",
    "fpr, tpr, thresholds = roc_curve(y_test, probs)\n",
    "plot_roc_curve(fpr, tpr)"
   ]
  },
  {
   "cell_type": "markdown",
   "id": "941b5459",
   "metadata": {},
   "source": [
    "# XGBoost Algorithm"
   ]
  },
  {
   "cell_type": "code",
   "execution_count": 95,
   "id": "2bd7b36e",
   "metadata": {},
   "outputs": [
    {
     "name": "stderr",
     "output_type": "stream",
     "text": [
      "C:\\Users\\HP\\anaconda3\\lib\\site-packages\\xgboost\\sklearn.py:888: UserWarning: The use of label encoder in XGBClassifier is deprecated and will be removed in a future release. To remove this warning, do the following: 1) Pass option use_label_encoder=False when constructing XGBClassifier object; and 2) Encode your labels (y) as integers starting with 0, i.e. 0, 1, 2, ..., [num_class - 1].\n",
      "  warnings.warn(label_encoder_deprecation_msg, UserWarning)\n"
     ]
    },
    {
     "name": "stdout",
     "output_type": "stream",
     "text": [
      "[15:07:27] WARNING: ..\\src\\learner.cc:1061: Starting in XGBoost 1.3.0, the default evaluation metric used with the objective 'binary:logistic' was changed from 'error' to 'logloss'. Explicitly set eval_metric if you'd like to restore the old behavior.\n"
     ]
    }
   ],
   "source": [
    "model = XGBClassifier()\n",
    "model.fit(x_train, y_train)\n",
    "y_pred =  model.predict(x_test)"
   ]
  },
  {
   "cell_type": "code",
   "execution_count": 96,
   "id": "1ad5e998",
   "metadata": {},
   "outputs": [
    {
     "name": "stdout",
     "output_type": "stream",
     "text": [
      "Confusion Matrix:\n",
      "[[111  24]\n",
      " [ 18 160]]\n",
      "Classification Report:\n",
      "              precision    recall  f1-score   support\n",
      "\n",
      "           0       0.86      0.82      0.84       135\n",
      "           1       0.87      0.90      0.88       178\n",
      "\n",
      "    accuracy                           0.87       313\n",
      "   macro avg       0.87      0.86      0.86       313\n",
      "weighted avg       0.87      0.87      0.87       313\n",
      "\n",
      "Accuracy: 86.5814696485623\n"
     ]
    }
   ],
   "source": [
    "\n",
    "#printing confusion matrix and model Accuracy\n",
    "result = confusion_matrix(y_test, y_pred)\n",
    "print(\"Confusion Matrix:\")\n",
    "print(result)\n",
    "result1 = classification_report(y_test, y_pred)\n",
    "print(\"Classification Report:\",)\n",
    "print (result1)\n",
    "xgb_result = accuracy_score(y_test,y_pred)\n",
    "print(\"Accuracy:\",xgb_result*100)"
   ]
  },
  {
   "cell_type": "code",
   "execution_count": 97,
   "id": "6b39d6b8",
   "metadata": {
    "scrolled": true
   },
   "outputs": [
    {
     "name": "stdout",
     "output_type": "stream",
     "text": [
      "[15:07:29] WARNING: ..\\src\\learner.cc:1061: Starting in XGBoost 1.3.0, the default evaluation metric used with the objective 'binary:logistic' was changed from 'error' to 'logloss'. Explicitly set eval_metric if you'd like to restore the old behavior.\n"
     ]
    },
    {
     "name": "stderr",
     "output_type": "stream",
     "text": [
      "C:\\Users\\HP\\anaconda3\\lib\\site-packages\\xgboost\\sklearn.py:888: UserWarning: The use of label encoder in XGBClassifier is deprecated and will be removed in a future release. To remove this warning, do the following: 1) Pass option use_label_encoder=False when constructing XGBClassifier object; and 2) Encode your labels (y) as integers starting with 0, i.e. 0, 1, 2, ..., [num_class - 1].\n",
      "  warnings.warn(label_encoder_deprecation_msg, UserWarning)\n"
     ]
    },
    {
     "name": "stdout",
     "output_type": "stream",
     "text": [
      "AUC: 0.95\n"
     ]
    },
    {
     "data": {
      "image/png": "[encoded data removed]",
      "text/plain": [
       "<Figure size 432x288 with 1 Axes>"
      ]
     },
     "metadata": {
      "needs_background": "light"
     },
     "output_type": "display_data"
    }
   ],
   "source": [
    "def plot_roc_curve(fpr, tpr):\n",
    "    plt.plot(fpr, tpr, color='orange', label='ROC')\n",
    "    plt.plot([0, 1], [0, 1], color='darkblue', linestyle='--')\n",
    "    plt.xlabel('False Positive Rate')\n",
    "    plt.ylabel('True Positive Rate')\n",
    "    plt.title('Receiver Operating Characteristic (ROC) Curve')\n",
    "    plt.legend()\n",
    "    plt.show()\n",
    "\n",
    "\n",
    "model = XGBClassifier()\n",
    "model.fit(x_train, y_train)\n",
    "\n",
    "probs = model.predict_proba(x_test)\n",
    "\n",
    "probs = probs[:, 1]\n",
    "\n",
    "auc = roc_auc_score(y_test, probs)\n",
    "print('AUC: %.2f' % auc)\n",
    "\n",
    "fpr, tpr, thresholds = roc_curve(y_test, probs)\n",
    "plot_roc_curve(fpr, tpr)"
   ]
  },
  {
   "cell_type": "code",
   "execution_count": 98,
   "id": "c3e28332",
   "metadata": {},
   "outputs": [
    {
     "data": {
      "text/html": [
       "<div>\n",
       "<style scoped>\n",
       "    .dataframe tbody tr th:only-of-type {\n",
       "        vertical-align: middle;\n",
       "    }\n",
       "\n",
       "    .dataframe tbody tr th {\n",
       "        vertical-align: top;\n",
       "    }\n",
       "\n",
       "    .dataframe thead th {\n",
       "        text-align: right;\n",
       "    }\n",
       "</style>\n",
       "<table border=\"1\" class=\"dataframe\">\n",
       "  <thead>\n",
       "    <tr style=\"text-align: right;\">\n",
       "      <th></th>\n",
       "      <th>Algorithm</th>\n",
       "      <th>Accuracy</th>\n",
       "    </tr>\n",
       "  </thead>\n",
       "  <tbody>\n",
       "    <tr>\n",
       "      <th>2</th>\n",
       "      <td>Gradient Boosting</td>\n",
       "      <td>87.220447</td>\n",
       "    </tr>\n",
       "    <tr>\n",
       "      <th>4</th>\n",
       "      <td>XGBoost Algorithm (XGB)</td>\n",
       "      <td>86.581470</td>\n",
       "    </tr>\n",
       "    <tr>\n",
       "      <th>0</th>\n",
       "      <td>K-Nearest Neighbors (KNN)</td>\n",
       "      <td>84.345048</td>\n",
       "    </tr>\n",
       "    <tr>\n",
       "      <th>1</th>\n",
       "      <td>Random Forest</td>\n",
       "      <td>84.345048</td>\n",
       "    </tr>\n",
       "    <tr>\n",
       "      <th>3</th>\n",
       "      <td>Support Vector Machine</td>\n",
       "      <td>74.440895</td>\n",
       "    </tr>\n",
       "  </tbody>\n",
       "</table>\n",
       "</div>"
      ],
      "text/plain": [
       "                   Algorithm   Accuracy\n",
       "2          Gradient Boosting  87.220447\n",
       "4    XGBoost Algorithm (XGB)  86.581470\n",
       "0  K-Nearest Neighbors (KNN)  84.345048\n",
       "1              Random Forest  84.345048\n",
       "3     Support Vector Machine  74.440895"
      ]
     },
     "execution_count": 98,
     "metadata": {},
     "output_type": "execute_result"
    }
   ],
   "source": [
    "results_123 = pd.DataFrame([\n",
    "\n",
    "    {'Algorithm' : 'K-Nearest Neighbors (KNN)', 'Accuracy' : knn_result*100},\n",
    "    \n",
    "    {'Algorithm' : 'Random Forest', 'Accuracy' : rf_result*100},\n",
    "    \n",
    "    {'Algorithm' : 'Gradient Boosting', 'Accuracy' : clf_result*100},\n",
    "    \n",
    "    {'Algorithm' : 'Support Vector Machine', 'Accuracy' : svm_result*100},\n",
    "    \n",
    "    {'Algorithm' : 'XGBoost Algorithm (XGB)', 'Accuracy' : xgb_result*100}\n",
    "    \n",
    "   \n",
    "\n",
    "])\n",
    "\n",
    "results_123.sort_values(by=['Accuracy'], ascending=False)"
   ]
  },
  {
   "cell_type": "markdown",
   "id": "4df38e29",
   "metadata": {},
   "source": [
    "# Parameters Tunning "
   ]
  },
  {
   "cell_type": "code",
   "execution_count": 99,
   "id": "a8b142ef",
   "metadata": {},
   "outputs": [
    {
     "name": "stdout",
     "output_type": "stream",
     "text": [
      "Accuracy: 86.5814696485623\n"
     ]
    }
   ],
   "source": [
    "model=KNeighborsClassifier(algorithm='auto', leaf_size=30, metric='minkowski',\n",
    "                     metric_params=None, n_jobs=None, n_neighbors=5, p=2,\n",
    "                     weights='uniform')\n",
    "model=model.fit(x_train,y_train)\n",
    "result=model.predict(x_test)\n",
    "dt_result = accuracy_score(y_test,y_pred)\n",
    "print(\"Accuracy:\",dt_result*100)"
   ]
  }
 ],
 "metadata": {
  "kernelspec": {
   "display_name": "Python 3",
   "language": "python",
   "name": "python3"
  },
  "language_info": {
   "codemirror_mode": {
    "name": "ipython",
    "version": 3
   },
   "file_extension": ".py",
   "mimetype": "text/x-python",
   "name": "python",
   "nbconvert_exporter": "python",
   "pygments_lexer": "ipython3",
   "version": "3.8.8"
  }
 },
 "nbformat": 4,
 "nbformat_minor": 5
}
